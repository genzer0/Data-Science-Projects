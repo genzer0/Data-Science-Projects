{
 "cells": [
  {
   "cell_type": "code",
   "execution_count": 1,
   "id": "179e1f56",
   "metadata": {},
   "outputs": [],
   "source": [
    "#import libraries\n",
    "from selenium.webdriver.common.by import By\n",
    "from selenium import webdriver\n",
    "import pandas as pd"
   ]
  },
  {
   "cell_type": "code",
   "execution_count": 2,
   "id": "388b57da",
   "metadata": {},
   "outputs": [],
   "source": [
    "#website url to be scraped\n",
    "#used search keyword \"toyota vios\"\n",
    "url = \"https://www.carousell.ph/categories/vehicles-32/used-cars-for-sale-2151/?addRecent=true&canChangeKeyword=true&includeSuggestions=true&search=toyota%20vios&searchId=McP-Z2\""
   ]
  },
  {
   "cell_type": "code",
   "execution_count": 3,
   "id": "74cf1c6a",
   "metadata": {},
   "outputs": [
    {
     "name": "stderr",
     "output_type": "stream",
     "text": [
      "C:\\Users\\gj_qu\\AppData\\Local\\Temp\\ipykernel_22692\\3958774279.py:2: DeprecationWarning: executable_path has been deprecated, please pass in a Service object\n",
      "  driver = webdriver.Chrome(\"C:/Users/gj_qu/chromedriver_win32/chromedriver.exe\")\n"
     ]
    },
    {
     "data": {
      "text/plain": [
       "<bound method WebDriver.maximize_window of <selenium.webdriver.chrome.webdriver.WebDriver (session=\"9a5ad9ddf8c08bc0e5a5886eb8e84280\")>>"
      ]
     },
     "execution_count": 3,
     "metadata": {},
     "output_type": "execute_result"
    }
   ],
   "source": [
    "#initialize Chromedriver\n",
    "driver = webdriver.Chrome(\"C:/Users/gj_qu/chromedriver_win32/chromedriver.exe\")\n",
    "#open website\n",
    "driver.get(url)\n",
    "#maximize window\n",
    "driver.maximize_window"
   ]
  },
  {
   "cell_type": "code",
   "execution_count": 4,
   "id": "1bcceae0",
   "metadata": {},
   "outputs": [],
   "source": [
    "#get elements using xpath and saved to variables\n",
    "year = driver.find_elements(By.XPATH,'//*[@id=\"main\"]/div/div/div/main/div/div/div/div/div/div/a/div[4]/div[1]/span')\n",
    "transmission = driver.find_elements(By.XPATH,'//*[@id=\"main\"]/div/div/div/main/div/div/div/div/div/div/a/div[4]/div[2]/span')\n",
    "price = driver.find_elements(By.XPATH,'//*[@id=\"main\"]/div/div/div/main/div/div/div/div/div/div/a/div[2]/div[1]/span')\n",
    "mileage = driver.find_elements(By.XPATH,'//*[@id=\"main\"]/div/div/div/main/div/div/div/div/div/div/a/div[4]/div[3]/span')\n",
    "desc = driver.find_elements(By.XPATH,'//*[@id=\"main\"]/div/div/div/main/div/div/div/div/div/div/a/div[3]/p')\n"
   ]
  },
  {
   "cell_type": "code",
   "execution_count": 5,
   "id": "463486bd",
   "metadata": {},
   "outputs": [
    {
     "data": {
      "text/html": [
       "<div>\n",
       "<style scoped>\n",
       "    .dataframe tbody tr th:only-of-type {\n",
       "        vertical-align: middle;\n",
       "    }\n",
       "\n",
       "    .dataframe tbody tr th {\n",
       "        vertical-align: top;\n",
       "    }\n",
       "\n",
       "    .dataframe thead th {\n",
       "        text-align: right;\n",
       "    }\n",
       "</style>\n",
       "<table border=\"1\" class=\"dataframe\">\n",
       "  <thead>\n",
       "    <tr style=\"text-align: right;\">\n",
       "      <th></th>\n",
       "      <th>year</th>\n",
       "      <th>transmission</th>\n",
       "      <th>price</th>\n",
       "      <th>mileage</th>\n",
       "      <th>desc</th>\n",
       "    </tr>\n",
       "  </thead>\n",
       "  <tbody>\n",
       "    <tr>\n",
       "      <th>0</th>\n",
       "      <td>2020</td>\n",
       "      <td>Automatic</td>\n",
       "      <td>PHP 688,000</td>\n",
       "      <td>10,001-20,000 km</td>\n",
       "      <td>2020 Toyota Vios G Push Start Auto</td>\n",
       "    </tr>\n",
       "    <tr>\n",
       "      <th>1</th>\n",
       "      <td>2017</td>\n",
       "      <td>Automatic</td>\n",
       "      <td>PHP 530,000</td>\n",
       "      <td>20,001-30,000 km</td>\n",
       "      <td>Toyota Vios 2017 1.5 G Auto</td>\n",
       "    </tr>\n",
       "    <tr>\n",
       "      <th>2</th>\n",
       "      <td>2008</td>\n",
       "      <td>Manual</td>\n",
       "      <td>PHP 290,000</td>\n",
       "      <td>130,001-140,000 km</td>\n",
       "      <td>Toyota Vios 1.5 E (M)</td>\n",
       "    </tr>\n",
       "    <tr>\n",
       "      <th>3</th>\n",
       "      <td>2022</td>\n",
       "      <td>Automatic</td>\n",
       "      <td>PHP 700,000</td>\n",
       "      <td>10,001-20,000 km</td>\n",
       "      <td>Toyota Vios XLE 1.3 CVT Auto</td>\n",
       "    </tr>\n",
       "    <tr>\n",
       "      <th>4</th>\n",
       "      <td>2013</td>\n",
       "      <td>Manual</td>\n",
       "      <td>PHP 358,000</td>\n",
       "      <td>80,001-90,000 km</td>\n",
       "      <td>2013 Toyota Vios 1.3 E Manual</td>\n",
       "    </tr>\n",
       "  </tbody>\n",
       "</table>\n",
       "</div>"
      ],
      "text/plain": [
       "   year transmission        price             mileage  \\\n",
       "0  2020    Automatic  PHP 688,000    10,001-20,000 km   \n",
       "1  2017    Automatic  PHP 530,000    20,001-30,000 km   \n",
       "2  2008       Manual  PHP 290,000  130,001-140,000 km   \n",
       "3  2022    Automatic  PHP 700,000    10,001-20,000 km   \n",
       "4  2013       Manual  PHP 358,000    80,001-90,000 km   \n",
       "\n",
       "                                 desc  \n",
       "0  2020 Toyota Vios G Push Start Auto  \n",
       "1         Toyota Vios 2017 1.5 G Auto  \n",
       "2               Toyota Vios 1.5 E (M)  \n",
       "3        Toyota Vios XLE 1.3 CVT Auto  \n",
       "4       2013 Toyota Vios 1.3 E Manual  "
      ]
     },
     "execution_count": 5,
     "metadata": {},
     "output_type": "execute_result"
    }
   ],
   "source": [
    "#create dataframe\n",
    "column_name = [\"year\", \"transmission\", \"price\", \"mileage\", \"desc\"]\n",
    "df = pd.DataFrame(columns = column_name)\n",
    "#populate dataframe with text from elements gathered\n",
    "df[\"year\"] = [x.text for x in year]\n",
    "df[\"transmission\"] = [x.text for x in transmission]\n",
    "df[\"price\"] = [x.text for x in price]\n",
    "df[\"mileage\"] = [x.text for x in mileage]\n",
    "df[\"desc\"] = [x.text for x in desc]\n",
    "df.head()\n"
   ]
  },
  {
   "cell_type": "code",
   "execution_count": 7,
   "id": "bf9134f7",
   "metadata": {},
   "outputs": [],
   "source": [
    "#export to csv\n",
    "# df.to_csv(\"market data raw scraped.csv\")"
   ]
  },
  {
   "cell_type": "code",
   "execution_count": null,
   "id": "d8dbb00d",
   "metadata": {},
   "outputs": [],
   "source": []
  }
 ],
 "metadata": {
  "kernelspec": {
   "display_name": "Python 3 (ipykernel)",
   "language": "python",
   "name": "python3"
  },
  "language_info": {
   "codemirror_mode": {
    "name": "ipython",
    "version": 3
   },
   "file_extension": ".py",
   "mimetype": "text/x-python",
   "name": "python",
   "nbconvert_exporter": "python",
   "pygments_lexer": "ipython3",
   "version": "3.9.13"
  }
 },
 "nbformat": 4,
 "nbformat_minor": 5
}
