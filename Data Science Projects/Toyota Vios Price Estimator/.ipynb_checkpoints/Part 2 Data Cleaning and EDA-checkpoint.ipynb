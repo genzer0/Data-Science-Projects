{
 "cells": [
  {
   "cell_type": "code",
   "execution_count": 1,
   "id": "58f4c216",
   "metadata": {},
   "outputs": [],
   "source": [
    "#import libraries\n",
    "import pandas as pd\n",
    "import numpy as np"
   ]
  },
  {
   "cell_type": "code",
   "execution_count": 2,
   "id": "1e21648b",
   "metadata": {},
   "outputs": [
    {
     "data": {
      "text/html": [
       "<div>\n",
       "<style scoped>\n",
       "    .dataframe tbody tr th:only-of-type {\n",
       "        vertical-align: middle;\n",
       "    }\n",
       "\n",
       "    .dataframe tbody tr th {\n",
       "        vertical-align: top;\n",
       "    }\n",
       "\n",
       "    .dataframe thead th {\n",
       "        text-align: right;\n",
       "    }\n",
       "</style>\n",
       "<table border=\"1\" class=\"dataframe\">\n",
       "  <thead>\n",
       "    <tr style=\"text-align: right;\">\n",
       "      <th></th>\n",
       "      <th>Unnamed: 0</th>\n",
       "      <th>year</th>\n",
       "      <th>transmission</th>\n",
       "      <th>price</th>\n",
       "      <th>mileage</th>\n",
       "      <th>desc</th>\n",
       "    </tr>\n",
       "  </thead>\n",
       "  <tbody>\n",
       "    <tr>\n",
       "      <th>0</th>\n",
       "      <td>0</td>\n",
       "      <td>2021</td>\n",
       "      <td>Automatic</td>\n",
       "      <td>PHP 598,000</td>\n",
       "      <td>0-10,000 km</td>\n",
       "      <td>2021 Toyota Vios 1.3xle very fresh must see Auto</td>\n",
       "    </tr>\n",
       "    <tr>\n",
       "      <th>1</th>\n",
       "      <td>1</td>\n",
       "      <td>2021</td>\n",
       "      <td>Automatic</td>\n",
       "      <td>PHP 579,000</td>\n",
       "      <td>10,001-20,000 km</td>\n",
       "      <td>2021 Toyota Vios 1.3 XLE AT Automatic Gas Auto</td>\n",
       "    </tr>\n",
       "    <tr>\n",
       "      <th>2</th>\n",
       "      <td>2</td>\n",
       "      <td>2021</td>\n",
       "      <td>Automatic</td>\n",
       "      <td>PHP 680,000</td>\n",
       "      <td>10,001-20,000 km</td>\n",
       "      <td>Toyota Vios 1.3 XLE Auto</td>\n",
       "    </tr>\n",
       "    <tr>\n",
       "      <th>3</th>\n",
       "      <td>3</td>\n",
       "      <td>2021</td>\n",
       "      <td>Automatic</td>\n",
       "      <td>PHP 628,000</td>\n",
       "      <td>0-10,000 km</td>\n",
       "      <td>2021 Toyota Vios 1.3 XLE CVT Automatic Blackis...</td>\n",
       "    </tr>\n",
       "    <tr>\n",
       "      <th>4</th>\n",
       "      <td>4</td>\n",
       "      <td>2020</td>\n",
       "      <td>Automatic</td>\n",
       "      <td>PHP 698,000</td>\n",
       "      <td>10,001-20,000 km</td>\n",
       "      <td>2020 Toyota Vios 1.5 G CVT AT 2020 Toyota Vios...</td>\n",
       "    </tr>\n",
       "  </tbody>\n",
       "</table>\n",
       "</div>"
      ],
      "text/plain": [
       "   Unnamed: 0  year transmission        price           mileage  \\\n",
       "0           0  2021    Automatic  PHP 598,000       0-10,000 km   \n",
       "1           1  2021    Automatic  PHP 579,000  10,001-20,000 km   \n",
       "2           2  2021    Automatic  PHP 680,000  10,001-20,000 km   \n",
       "3           3  2021    Automatic  PHP 628,000       0-10,000 km   \n",
       "4           4  2020    Automatic  PHP 698,000  10,001-20,000 km   \n",
       "\n",
       "                                                desc  \n",
       "0   2021 Toyota Vios 1.3xle very fresh must see Auto  \n",
       "1     2021 Toyota Vios 1.3 XLE AT Automatic Gas Auto  \n",
       "2                           Toyota Vios 1.3 XLE Auto  \n",
       "3  2021 Toyota Vios 1.3 XLE CVT Automatic Blackis...  \n",
       "4  2020 Toyota Vios 1.5 G CVT AT 2020 Toyota Vios...  "
      ]
     },
     "execution_count": 2,
     "metadata": {},
     "output_type": "execute_result"
    }
   ],
   "source": [
    "#import csv\n",
    "df = pd.read_csv(\"market data raw scraped.csv\")\n",
    "df.head()"
   ]
  },
  {
   "cell_type": "code",
   "execution_count": 3,
   "id": "62c573c5",
   "metadata": {},
   "outputs": [
    {
     "name": "stdout",
     "output_type": "stream",
     "text": [
      "<class 'pandas.core.frame.DataFrame'>\n",
      "RangeIndex: 192 entries, 0 to 191\n",
      "Data columns (total 6 columns):\n",
      " #   Column        Non-Null Count  Dtype \n",
      "---  ------        --------------  ----- \n",
      " 0   Unnamed: 0    192 non-null    int64 \n",
      " 1   year          192 non-null    int64 \n",
      " 2   transmission  192 non-null    object\n",
      " 3   price         192 non-null    object\n",
      " 4   mileage       192 non-null    object\n",
      " 5   desc          192 non-null    object\n",
      "dtypes: int64(2), object(4)\n",
      "memory usage: 9.1+ KB\n"
     ]
    }
   ],
   "source": [
    "df.info()"
   ]
  },
  {
   "cell_type": "code",
   "execution_count": 4,
   "id": "c23f5977",
   "metadata": {},
   "outputs": [
    {
     "data": {
      "text/html": [
       "<div>\n",
       "<style scoped>\n",
       "    .dataframe tbody tr th:only-of-type {\n",
       "        vertical-align: middle;\n",
       "    }\n",
       "\n",
       "    .dataframe tbody tr th {\n",
       "        vertical-align: top;\n",
       "    }\n",
       "\n",
       "    .dataframe thead th {\n",
       "        text-align: right;\n",
       "    }\n",
       "</style>\n",
       "<table border=\"1\" class=\"dataframe\">\n",
       "  <thead>\n",
       "    <tr style=\"text-align: right;\">\n",
       "      <th></th>\n",
       "      <th>year</th>\n",
       "      <th>transmission</th>\n",
       "      <th>price</th>\n",
       "      <th>mileage</th>\n",
       "      <th>desc</th>\n",
       "    </tr>\n",
       "  </thead>\n",
       "  <tbody>\n",
       "    <tr>\n",
       "      <th>0</th>\n",
       "      <td>2021</td>\n",
       "      <td>Automatic</td>\n",
       "      <td>PHP 598,000</td>\n",
       "      <td>0-10,000 km</td>\n",
       "      <td>2021 Toyota Vios 1.3xle very fresh must see Auto</td>\n",
       "    </tr>\n",
       "    <tr>\n",
       "      <th>1</th>\n",
       "      <td>2021</td>\n",
       "      <td>Automatic</td>\n",
       "      <td>PHP 579,000</td>\n",
       "      <td>10,001-20,000 km</td>\n",
       "      <td>2021 Toyota Vios 1.3 XLE AT Automatic Gas Auto</td>\n",
       "    </tr>\n",
       "    <tr>\n",
       "      <th>2</th>\n",
       "      <td>2021</td>\n",
       "      <td>Automatic</td>\n",
       "      <td>PHP 680,000</td>\n",
       "      <td>10,001-20,000 km</td>\n",
       "      <td>Toyota Vios 1.3 XLE Auto</td>\n",
       "    </tr>\n",
       "    <tr>\n",
       "      <th>3</th>\n",
       "      <td>2021</td>\n",
       "      <td>Automatic</td>\n",
       "      <td>PHP 628,000</td>\n",
       "      <td>0-10,000 km</td>\n",
       "      <td>2021 Toyota Vios 1.3 XLE CVT Automatic Blackis...</td>\n",
       "    </tr>\n",
       "    <tr>\n",
       "      <th>4</th>\n",
       "      <td>2020</td>\n",
       "      <td>Automatic</td>\n",
       "      <td>PHP 698,000</td>\n",
       "      <td>10,001-20,000 km</td>\n",
       "      <td>2020 Toyota Vios 1.5 G CVT AT 2020 Toyota Vios...</td>\n",
       "    </tr>\n",
       "  </tbody>\n",
       "</table>\n",
       "</div>"
      ],
      "text/plain": [
       "   year transmission        price           mileage  \\\n",
       "0  2021    Automatic  PHP 598,000       0-10,000 km   \n",
       "1  2021    Automatic  PHP 579,000  10,001-20,000 km   \n",
       "2  2021    Automatic  PHP 680,000  10,001-20,000 km   \n",
       "3  2021    Automatic  PHP 628,000       0-10,000 km   \n",
       "4  2020    Automatic  PHP 698,000  10,001-20,000 km   \n",
       "\n",
       "                                                desc  \n",
       "0   2021 Toyota Vios 1.3xle very fresh must see Auto  \n",
       "1     2021 Toyota Vios 1.3 XLE AT Automatic Gas Auto  \n",
       "2                           Toyota Vios 1.3 XLE Auto  \n",
       "3  2021 Toyota Vios 1.3 XLE CVT Automatic Blackis...  \n",
       "4  2020 Toyota Vios 1.5 G CVT AT 2020 Toyota Vios...  "
      ]
     },
     "execution_count": 4,
     "metadata": {},
     "output_type": "execute_result"
    }
   ],
   "source": [
    "#drop unnamed: 0 column\n",
    "df = df.drop([\"Unnamed: 0\"], axis = \"columns\")\n",
    "df.head()"
   ]
  },
  {
   "cell_type": "code",
   "execution_count": 5,
   "id": "9c21bcf7",
   "metadata": {},
   "outputs": [
    {
     "data": {
      "text/html": [
       "<div>\n",
       "<style scoped>\n",
       "    .dataframe tbody tr th:only-of-type {\n",
       "        vertical-align: middle;\n",
       "    }\n",
       "\n",
       "    .dataframe tbody tr th {\n",
       "        vertical-align: top;\n",
       "    }\n",
       "\n",
       "    .dataframe thead th {\n",
       "        text-align: right;\n",
       "    }\n",
       "</style>\n",
       "<table border=\"1\" class=\"dataframe\">\n",
       "  <thead>\n",
       "    <tr style=\"text-align: right;\">\n",
       "      <th></th>\n",
       "      <th>year</th>\n",
       "      <th>transmission</th>\n",
       "      <th>price</th>\n",
       "      <th>mileage</th>\n",
       "      <th>desc</th>\n",
       "    </tr>\n",
       "  </thead>\n",
       "  <tbody>\n",
       "    <tr>\n",
       "      <th>0</th>\n",
       "      <td>2021</td>\n",
       "      <td>Automatic</td>\n",
       "      <td>598000</td>\n",
       "      <td>0-10,000 km</td>\n",
       "      <td>2021 Toyota Vios 1.3xle very fresh must see Auto</td>\n",
       "    </tr>\n",
       "    <tr>\n",
       "      <th>1</th>\n",
       "      <td>2021</td>\n",
       "      <td>Automatic</td>\n",
       "      <td>579000</td>\n",
       "      <td>10,001-20,000 km</td>\n",
       "      <td>2021 Toyota Vios 1.3 XLE AT Automatic Gas Auto</td>\n",
       "    </tr>\n",
       "    <tr>\n",
       "      <th>2</th>\n",
       "      <td>2021</td>\n",
       "      <td>Automatic</td>\n",
       "      <td>680000</td>\n",
       "      <td>10,001-20,000 km</td>\n",
       "      <td>Toyota Vios 1.3 XLE Auto</td>\n",
       "    </tr>\n",
       "    <tr>\n",
       "      <th>3</th>\n",
       "      <td>2021</td>\n",
       "      <td>Automatic</td>\n",
       "      <td>628000</td>\n",
       "      <td>0-10,000 km</td>\n",
       "      <td>2021 Toyota Vios 1.3 XLE CVT Automatic Blackis...</td>\n",
       "    </tr>\n",
       "    <tr>\n",
       "      <th>4</th>\n",
       "      <td>2020</td>\n",
       "      <td>Automatic</td>\n",
       "      <td>698000</td>\n",
       "      <td>10,001-20,000 km</td>\n",
       "      <td>2020 Toyota Vios 1.5 G CVT AT 2020 Toyota Vios...</td>\n",
       "    </tr>\n",
       "  </tbody>\n",
       "</table>\n",
       "</div>"
      ],
      "text/plain": [
       "   year transmission   price           mileage  \\\n",
       "0  2021    Automatic  598000       0-10,000 km   \n",
       "1  2021    Automatic  579000  10,001-20,000 km   \n",
       "2  2021    Automatic  680000  10,001-20,000 km   \n",
       "3  2021    Automatic  628000       0-10,000 km   \n",
       "4  2020    Automatic  698000  10,001-20,000 km   \n",
       "\n",
       "                                                desc  \n",
       "0   2021 Toyota Vios 1.3xle very fresh must see Auto  \n",
       "1     2021 Toyota Vios 1.3 XLE AT Automatic Gas Auto  \n",
       "2                           Toyota Vios 1.3 XLE Auto  \n",
       "3  2021 Toyota Vios 1.3 XLE CVT Automatic Blackis...  \n",
       "4  2020 Toyota Vios 1.5 G CVT AT 2020 Toyota Vios...  "
      ]
     },
     "execution_count": 5,
     "metadata": {},
     "output_type": "execute_result"
    }
   ],
   "source": [
    "#convert price to numerical format\n",
    "num_price = [x.split(\" \")[1] for x in df.price]\n",
    "df.price = num_price\n",
    "#remove comma and convert to int dtype\n",
    "df.price = df.price.str.replace(',', '').astype(int)\n",
    "df.head()\n"
   ]
  },
  {
   "cell_type": "code",
   "execution_count": 6,
   "id": "00b1a028",
   "metadata": {},
   "outputs": [
    {
     "data": {
      "text/plain": [
       "array(['0-10,000 km', '10,001-20,000 km', '190,001-200,000 km',\n",
       "       '20,001-30,000 km', '80,001-90,000 km', '40,001-50,000 km',\n",
       "       '50,001-60,000 km', '60,001-70,000 km', '70,001-80,000 km',\n",
       "       '90,001-100,000 km', '100,001-120,000 km', '140,001-150,000 km',\n",
       "       '30,001-40,000 km', '120,001-130,000 km', '130,001-140,000 km',\n",
       "       '150,001-160,000 km', '170,001-180,000 km'], dtype=object)"
      ]
     },
     "execution_count": 6,
     "metadata": {},
     "output_type": "execute_result"
    }
   ],
   "source": [
    "#display unique values under mileage column\n",
    "df.mileage.unique()"
   ]
  },
  {
   "cell_type": "code",
   "execution_count": 7,
   "id": "34602344",
   "metadata": {},
   "outputs": [
    {
     "data": {
      "text/html": [
       "<div>\n",
       "<style scoped>\n",
       "    .dataframe tbody tr th:only-of-type {\n",
       "        vertical-align: middle;\n",
       "    }\n",
       "\n",
       "    .dataframe tbody tr th {\n",
       "        vertical-align: top;\n",
       "    }\n",
       "\n",
       "    .dataframe thead th {\n",
       "        text-align: right;\n",
       "    }\n",
       "</style>\n",
       "<table border=\"1\" class=\"dataframe\">\n",
       "  <thead>\n",
       "    <tr style=\"text-align: right;\">\n",
       "      <th></th>\n",
       "      <th>year</th>\n",
       "      <th>transmission</th>\n",
       "      <th>price</th>\n",
       "      <th>mileage</th>\n",
       "      <th>desc</th>\n",
       "    </tr>\n",
       "  </thead>\n",
       "  <tbody>\n",
       "    <tr>\n",
       "      <th>0</th>\n",
       "      <td>2021</td>\n",
       "      <td>Automatic</td>\n",
       "      <td>598000</td>\n",
       "      <td>5000</td>\n",
       "      <td>2021 Toyota Vios 1.3xle very fresh must see Auto</td>\n",
       "    </tr>\n",
       "    <tr>\n",
       "      <th>1</th>\n",
       "      <td>2021</td>\n",
       "      <td>Automatic</td>\n",
       "      <td>579000</td>\n",
       "      <td>15000</td>\n",
       "      <td>2021 Toyota Vios 1.3 XLE AT Automatic Gas Auto</td>\n",
       "    </tr>\n",
       "    <tr>\n",
       "      <th>2</th>\n",
       "      <td>2021</td>\n",
       "      <td>Automatic</td>\n",
       "      <td>680000</td>\n",
       "      <td>15000</td>\n",
       "      <td>Toyota Vios 1.3 XLE Auto</td>\n",
       "    </tr>\n",
       "    <tr>\n",
       "      <th>3</th>\n",
       "      <td>2021</td>\n",
       "      <td>Automatic</td>\n",
       "      <td>628000</td>\n",
       "      <td>5000</td>\n",
       "      <td>2021 Toyota Vios 1.3 XLE CVT Automatic Blackis...</td>\n",
       "    </tr>\n",
       "    <tr>\n",
       "      <th>4</th>\n",
       "      <td>2020</td>\n",
       "      <td>Automatic</td>\n",
       "      <td>698000</td>\n",
       "      <td>15000</td>\n",
       "      <td>2020 Toyota Vios 1.5 G CVT AT 2020 Toyota Vios...</td>\n",
       "    </tr>\n",
       "  </tbody>\n",
       "</table>\n",
       "</div>"
      ],
      "text/plain": [
       "   year transmission   price  mileage  \\\n",
       "0  2021    Automatic  598000     5000   \n",
       "1  2021    Automatic  579000    15000   \n",
       "2  2021    Automatic  680000    15000   \n",
       "3  2021    Automatic  628000     5000   \n",
       "4  2020    Automatic  698000    15000   \n",
       "\n",
       "                                                desc  \n",
       "0   2021 Toyota Vios 1.3xle very fresh must see Auto  \n",
       "1     2021 Toyota Vios 1.3 XLE AT Automatic Gas Auto  \n",
       "2                           Toyota Vios 1.3 XLE Auto  \n",
       "3  2021 Toyota Vios 1.3 XLE CVT Automatic Blackis...  \n",
       "4  2020 Toyota Vios 1.5 G CVT AT 2020 Toyota Vios...  "
      ]
     },
     "execution_count": 7,
     "metadata": {},
     "output_type": "execute_result"
    }
   ],
   "source": [
    "#I want to assign the mileage into a numerical value that's  why we will get the mean of the ranges\n",
    "#eg. 10,000 - 20,000 km converted to 15,000\n",
    "mileage_min = [int(x.split(\"-\")[0].replace(\",\", \"\")) for x in df.mileage]\n",
    "mileage_max = [int(x.replace(\" \",\"-\").split(\"-\")[1].replace(',', '')) for x in df.mileage]\n",
    "#convert list to array, get average and get floor value\n",
    "mileage_ave = np.floor((np.array(mileage_max) + np.array(mileage_min))/2)\n",
    "#convert to int dtype and replace values of mileage column\n",
    "\n",
    "df.mileage = mileage_ave.astype(int)\n",
    "df.head()\n"
   ]
  },
  {
   "cell_type": "code",
   "execution_count": 8,
   "id": "818cb56e",
   "metadata": {
    "scrolled": true
   },
   "outputs": [
    {
     "data": {
      "text/html": [
       "<div>\n",
       "<style scoped>\n",
       "    .dataframe tbody tr th:only-of-type {\n",
       "        vertical-align: middle;\n",
       "    }\n",
       "\n",
       "    .dataframe tbody tr th {\n",
       "        vertical-align: top;\n",
       "    }\n",
       "\n",
       "    .dataframe thead th {\n",
       "        text-align: right;\n",
       "    }\n",
       "</style>\n",
       "<table border=\"1\" class=\"dataframe\">\n",
       "  <thead>\n",
       "    <tr style=\"text-align: right;\">\n",
       "      <th></th>\n",
       "      <th>year</th>\n",
       "      <th>transmission</th>\n",
       "      <th>price</th>\n",
       "      <th>mileage</th>\n",
       "      <th>desc</th>\n",
       "      <th>XLE</th>\n",
       "      <th>XE</th>\n",
       "      <th>J</th>\n",
       "      <th>E</th>\n",
       "      <th>G</th>\n",
       "    </tr>\n",
       "  </thead>\n",
       "  <tbody>\n",
       "    <tr>\n",
       "      <th>0</th>\n",
       "      <td>2021</td>\n",
       "      <td>Automatic</td>\n",
       "      <td>598000</td>\n",
       "      <td>5000</td>\n",
       "      <td>2021 Toyota Vios 1.3xle very fresh must see Auto</td>\n",
       "      <td>1</td>\n",
       "      <td>0</td>\n",
       "      <td>0</td>\n",
       "      <td>1</td>\n",
       "      <td>0</td>\n",
       "    </tr>\n",
       "    <tr>\n",
       "      <th>1</th>\n",
       "      <td>2021</td>\n",
       "      <td>Automatic</td>\n",
       "      <td>579000</td>\n",
       "      <td>15000</td>\n",
       "      <td>2021 Toyota Vios 1.3 XLE AT Automatic Gas Auto</td>\n",
       "      <td>1</td>\n",
       "      <td>0</td>\n",
       "      <td>0</td>\n",
       "      <td>1</td>\n",
       "      <td>0</td>\n",
       "    </tr>\n",
       "    <tr>\n",
       "      <th>2</th>\n",
       "      <td>2021</td>\n",
       "      <td>Automatic</td>\n",
       "      <td>680000</td>\n",
       "      <td>15000</td>\n",
       "      <td>Toyota Vios 1.3 XLE Auto</td>\n",
       "      <td>1</td>\n",
       "      <td>0</td>\n",
       "      <td>0</td>\n",
       "      <td>1</td>\n",
       "      <td>0</td>\n",
       "    </tr>\n",
       "    <tr>\n",
       "      <th>3</th>\n",
       "      <td>2021</td>\n",
       "      <td>Automatic</td>\n",
       "      <td>628000</td>\n",
       "      <td>5000</td>\n",
       "      <td>2021 Toyota Vios 1.3 XLE CVT Automatic Blackis...</td>\n",
       "      <td>1</td>\n",
       "      <td>0</td>\n",
       "      <td>0</td>\n",
       "      <td>1</td>\n",
       "      <td>0</td>\n",
       "    </tr>\n",
       "    <tr>\n",
       "      <th>4</th>\n",
       "      <td>2020</td>\n",
       "      <td>Automatic</td>\n",
       "      <td>698000</td>\n",
       "      <td>15000</td>\n",
       "      <td>2020 Toyota Vios 1.5 G CVT AT 2020 Toyota Vios...</td>\n",
       "      <td>0</td>\n",
       "      <td>0</td>\n",
       "      <td>0</td>\n",
       "      <td>0</td>\n",
       "      <td>1</td>\n",
       "    </tr>\n",
       "  </tbody>\n",
       "</table>\n",
       "</div>"
      ],
      "text/plain": [
       "   year transmission   price  mileage  \\\n",
       "0  2021    Automatic  598000     5000   \n",
       "1  2021    Automatic  579000    15000   \n",
       "2  2021    Automatic  680000    15000   \n",
       "3  2021    Automatic  628000     5000   \n",
       "4  2020    Automatic  698000    15000   \n",
       "\n",
       "                                                desc  XLE  XE  J   E   G   \n",
       "0   2021 Toyota Vios 1.3xle very fresh must see Auto    1   0   0   1   0  \n",
       "1     2021 Toyota Vios 1.3 XLE AT Automatic Gas Auto    1   0   0   1   0  \n",
       "2                           Toyota Vios 1.3 XLE Auto    1   0   0   1   0  \n",
       "3  2021 Toyota Vios 1.3 XLE CVT Automatic Blackis...    1   0   0   1   0  \n",
       "4  2020 Toyota Vios 1.5 G CVT AT 2020 Toyota Vios...    0   0   0   0   1  "
      ]
     },
     "execution_count": 8,
     "metadata": {},
     "output_type": "execute_result"
    }
   ],
   "source": [
    "#get the variant of toyota vios from the description string value\n",
    "#will do a one hot encode like label encoding where it will return a column per variant then return 1\n",
    "#when the variant word is detected and 0 if not\n",
    "\n",
    "variants = [\"XLE\", \"XE\", \"J \", \"E \", \"G \"]\n",
    "for v in variants:\n",
    "    find = [x.upper().find(v) for x in df.desc]\n",
    "    int_label = [1 if x > 1 else 0 for x in find]\n",
    "    df[v] = int_label\n",
    "df.head()   "
   ]
  },
  {
   "cell_type": "code",
   "execution_count": 9,
   "id": "eb76d56a",
   "metadata": {},
   "outputs": [
    {
     "data": {
      "text/plain": [
       "(176, 10)"
      ]
     },
     "execution_count": 9,
     "metadata": {},
     "output_type": "execute_result"
    }
   ],
   "source": [
    "#to increase the accuracy of the Machine Learning model that will be created in the later parts of this project\n",
    "#I decided to drop those rows without any variant\n",
    "df = df.loc[~((df[\"XLE\"] == 0) & (df[\"XE\"] == 0) & (df[\"J \"] == 0) & \n",
    "                  (df[\"E \"] == 0) & (df[\"G \"] == 0)),:]\n",
    "df.shape\n",
    "#16 rows dropped"
   ]
  },
  {
   "cell_type": "code",
   "execution_count": 10,
   "id": "0142ccf6",
   "metadata": {
    "scrolled": true
   },
   "outputs": [
    {
     "data": {
      "text/html": [
       "<div>\n",
       "<style scoped>\n",
       "    .dataframe tbody tr th:only-of-type {\n",
       "        vertical-align: middle;\n",
       "    }\n",
       "\n",
       "    .dataframe tbody tr th {\n",
       "        vertical-align: top;\n",
       "    }\n",
       "\n",
       "    .dataframe thead th {\n",
       "        text-align: right;\n",
       "    }\n",
       "</style>\n",
       "<table border=\"1\" class=\"dataframe\">\n",
       "  <thead>\n",
       "    <tr style=\"text-align: right;\">\n",
       "      <th></th>\n",
       "      <th>year</th>\n",
       "      <th>transmission</th>\n",
       "      <th>price</th>\n",
       "      <th>mileage</th>\n",
       "      <th>desc</th>\n",
       "      <th>XLE</th>\n",
       "      <th>XE</th>\n",
       "      <th>J</th>\n",
       "      <th>E</th>\n",
       "      <th>G</th>\n",
       "      <th>variant</th>\n",
       "    </tr>\n",
       "  </thead>\n",
       "  <tbody>\n",
       "    <tr>\n",
       "      <th>0</th>\n",
       "      <td>2021</td>\n",
       "      <td>Automatic</td>\n",
       "      <td>598000</td>\n",
       "      <td>5000</td>\n",
       "      <td>2021 Toyota Vios 1.3xle very fresh must see Auto</td>\n",
       "      <td>1</td>\n",
       "      <td>0</td>\n",
       "      <td>0</td>\n",
       "      <td>1</td>\n",
       "      <td>0</td>\n",
       "      <td>XLE</td>\n",
       "    </tr>\n",
       "    <tr>\n",
       "      <th>1</th>\n",
       "      <td>2021</td>\n",
       "      <td>Automatic</td>\n",
       "      <td>579000</td>\n",
       "      <td>15000</td>\n",
       "      <td>2021 Toyota Vios 1.3 XLE AT Automatic Gas Auto</td>\n",
       "      <td>1</td>\n",
       "      <td>0</td>\n",
       "      <td>0</td>\n",
       "      <td>1</td>\n",
       "      <td>0</td>\n",
       "      <td>XLE</td>\n",
       "    </tr>\n",
       "    <tr>\n",
       "      <th>2</th>\n",
       "      <td>2021</td>\n",
       "      <td>Automatic</td>\n",
       "      <td>680000</td>\n",
       "      <td>15000</td>\n",
       "      <td>Toyota Vios 1.3 XLE Auto</td>\n",
       "      <td>1</td>\n",
       "      <td>0</td>\n",
       "      <td>0</td>\n",
       "      <td>1</td>\n",
       "      <td>0</td>\n",
       "      <td>XLE</td>\n",
       "    </tr>\n",
       "    <tr>\n",
       "      <th>3</th>\n",
       "      <td>2021</td>\n",
       "      <td>Automatic</td>\n",
       "      <td>628000</td>\n",
       "      <td>5000</td>\n",
       "      <td>2021 Toyota Vios 1.3 XLE CVT Automatic Blackis...</td>\n",
       "      <td>1</td>\n",
       "      <td>0</td>\n",
       "      <td>0</td>\n",
       "      <td>1</td>\n",
       "      <td>0</td>\n",
       "      <td>XLE</td>\n",
       "    </tr>\n",
       "    <tr>\n",
       "      <th>4</th>\n",
       "      <td>2020</td>\n",
       "      <td>Automatic</td>\n",
       "      <td>698000</td>\n",
       "      <td>15000</td>\n",
       "      <td>2020 Toyota Vios 1.5 G CVT AT 2020 Toyota Vios...</td>\n",
       "      <td>0</td>\n",
       "      <td>0</td>\n",
       "      <td>0</td>\n",
       "      <td>0</td>\n",
       "      <td>1</td>\n",
       "      <td>G</td>\n",
       "    </tr>\n",
       "  </tbody>\n",
       "</table>\n",
       "</div>"
      ],
      "text/plain": [
       "   year transmission   price  mileage  \\\n",
       "0  2021    Automatic  598000     5000   \n",
       "1  2021    Automatic  579000    15000   \n",
       "2  2021    Automatic  680000    15000   \n",
       "3  2021    Automatic  628000     5000   \n",
       "4  2020    Automatic  698000    15000   \n",
       "\n",
       "                                                desc  XLE  XE  J   E   G   \\\n",
       "0   2021 Toyota Vios 1.3xle very fresh must see Auto    1   0   0   1   0   \n",
       "1     2021 Toyota Vios 1.3 XLE AT Automatic Gas Auto    1   0   0   1   0   \n",
       "2                           Toyota Vios 1.3 XLE Auto    1   0   0   1   0   \n",
       "3  2021 Toyota Vios 1.3 XLE CVT Automatic Blackis...    1   0   0   1   0   \n",
       "4  2020 Toyota Vios 1.5 G CVT AT 2020 Toyota Vios...    0   0   0   0   1   \n",
       "\n",
       "  variant  \n",
       "0     XLE  \n",
       "1     XLE  \n",
       "2     XLE  \n",
       "3     XLE  \n",
       "4      G   "
      ]
     },
     "execution_count": 10,
     "metadata": {},
     "output_type": "execute_result"
    }
   ],
   "source": [
    "#reverse one hot encoding using idxmax(1)\n",
    "variants = df[[\"XLE\",\"XE\",\"J \",\"E \",\"G \"]]\n",
    "variant = pd.get_dummies(variants).idxmax(1)\n",
    "df[\"variant\"] = variant\n",
    "df.head()"
   ]
  },
  {
   "cell_type": "code",
   "execution_count": 11,
   "id": "d8833008",
   "metadata": {},
   "outputs": [
    {
     "data": {
      "text/html": [
       "<div>\n",
       "<style scoped>\n",
       "    .dataframe tbody tr th:only-of-type {\n",
       "        vertical-align: middle;\n",
       "    }\n",
       "\n",
       "    .dataframe tbody tr th {\n",
       "        vertical-align: top;\n",
       "    }\n",
       "\n",
       "    .dataframe thead th {\n",
       "        text-align: right;\n",
       "    }\n",
       "</style>\n",
       "<table border=\"1\" class=\"dataframe\">\n",
       "  <thead>\n",
       "    <tr style=\"text-align: right;\">\n",
       "      <th></th>\n",
       "      <th>year</th>\n",
       "      <th>price</th>\n",
       "      <th>mileage</th>\n",
       "      <th>XLE</th>\n",
       "      <th>XE</th>\n",
       "      <th>J</th>\n",
       "      <th>E</th>\n",
       "      <th>G</th>\n",
       "    </tr>\n",
       "  </thead>\n",
       "  <tbody>\n",
       "    <tr>\n",
       "      <th>count</th>\n",
       "      <td>176.000000</td>\n",
       "      <td>1.760000e+02</td>\n",
       "      <td>176.000000</td>\n",
       "      <td>176.000000</td>\n",
       "      <td>176.000000</td>\n",
       "      <td>176.000000</td>\n",
       "      <td>176.000000</td>\n",
       "      <td>176.000000</td>\n",
       "    </tr>\n",
       "    <tr>\n",
       "      <th>mean</th>\n",
       "      <td>2005.789773</td>\n",
       "      <td>1.164859e+06</td>\n",
       "      <td>42528.409091</td>\n",
       "      <td>0.278409</td>\n",
       "      <td>0.022727</td>\n",
       "      <td>0.125000</td>\n",
       "      <td>0.761364</td>\n",
       "      <td>0.210227</td>\n",
       "    </tr>\n",
       "    <tr>\n",
       "      <th>std</th>\n",
       "      <td>152.113026</td>\n",
       "      <td>9.271938e+06</td>\n",
       "      <td>40767.624266</td>\n",
       "      <td>0.449495</td>\n",
       "      <td>0.149458</td>\n",
       "      <td>0.331662</td>\n",
       "      <td>0.427466</td>\n",
       "      <td>0.408632</td>\n",
       "    </tr>\n",
       "    <tr>\n",
       "      <th>min</th>\n",
       "      <td>0.000000</td>\n",
       "      <td>1.000000e+05</td>\n",
       "      <td>5000.000000</td>\n",
       "      <td>0.000000</td>\n",
       "      <td>0.000000</td>\n",
       "      <td>0.000000</td>\n",
       "      <td>0.000000</td>\n",
       "      <td>0.000000</td>\n",
       "    </tr>\n",
       "    <tr>\n",
       "      <th>25%</th>\n",
       "      <td>2015.000000</td>\n",
       "      <td>3.545000e+05</td>\n",
       "      <td>15000.000000</td>\n",
       "      <td>0.000000</td>\n",
       "      <td>0.000000</td>\n",
       "      <td>0.000000</td>\n",
       "      <td>1.000000</td>\n",
       "      <td>0.000000</td>\n",
       "    </tr>\n",
       "    <tr>\n",
       "      <th>50%</th>\n",
       "      <td>2018.000000</td>\n",
       "      <td>4.665000e+05</td>\n",
       "      <td>25000.000000</td>\n",
       "      <td>0.000000</td>\n",
       "      <td>0.000000</td>\n",
       "      <td>0.000000</td>\n",
       "      <td>1.000000</td>\n",
       "      <td>0.000000</td>\n",
       "    </tr>\n",
       "    <tr>\n",
       "      <th>75%</th>\n",
       "      <td>2021.000000</td>\n",
       "      <td>6.100000e+05</td>\n",
       "      <td>65000.000000</td>\n",
       "      <td>1.000000</td>\n",
       "      <td>0.000000</td>\n",
       "      <td>0.000000</td>\n",
       "      <td>1.000000</td>\n",
       "      <td>0.000000</td>\n",
       "    </tr>\n",
       "    <tr>\n",
       "      <th>max</th>\n",
       "      <td>2022.000000</td>\n",
       "      <td>1.234568e+08</td>\n",
       "      <td>195000.000000</td>\n",
       "      <td>1.000000</td>\n",
       "      <td>1.000000</td>\n",
       "      <td>1.000000</td>\n",
       "      <td>1.000000</td>\n",
       "      <td>1.000000</td>\n",
       "    </tr>\n",
       "  </tbody>\n",
       "</table>\n",
       "</div>"
      ],
      "text/plain": [
       "              year         price        mileage         XLE          XE  \\\n",
       "count   176.000000  1.760000e+02     176.000000  176.000000  176.000000   \n",
       "mean   2005.789773  1.164859e+06   42528.409091    0.278409    0.022727   \n",
       "std     152.113026  9.271938e+06   40767.624266    0.449495    0.149458   \n",
       "min       0.000000  1.000000e+05    5000.000000    0.000000    0.000000   \n",
       "25%    2015.000000  3.545000e+05   15000.000000    0.000000    0.000000   \n",
       "50%    2018.000000  4.665000e+05   25000.000000    0.000000    0.000000   \n",
       "75%    2021.000000  6.100000e+05   65000.000000    1.000000    0.000000   \n",
       "max    2022.000000  1.234568e+08  195000.000000    1.000000    1.000000   \n",
       "\n",
       "               J           E           G   \n",
       "count  176.000000  176.000000  176.000000  \n",
       "mean     0.125000    0.761364    0.210227  \n",
       "std      0.331662    0.427466    0.408632  \n",
       "min      0.000000    0.000000    0.000000  \n",
       "25%      0.000000    1.000000    0.000000  \n",
       "50%      0.000000    1.000000    0.000000  \n",
       "75%      0.000000    1.000000    0.000000  \n",
       "max      1.000000    1.000000    1.000000  "
      ]
     },
     "execution_count": 11,
     "metadata": {},
     "output_type": "execute_result"
    }
   ],
   "source": [
    "#Clean the data\n",
    "df.describe()"
   ]
  },
  {
   "cell_type": "code",
   "execution_count": 12,
   "id": "36c2e85f",
   "metadata": {},
   "outputs": [
    {
     "data": {
      "text/plain": [
       "191    123456789\n",
       "13        700000\n",
       "172       699000\n",
       "4         698000\n",
       "112       688000\n",
       "         ...    \n",
       "70        140000\n",
       "60        134000\n",
       "170       114000\n",
       "75        110000\n",
       "57        100000\n",
       "Name: price, Length: 176, dtype: int32"
      ]
     },
     "execution_count": 12,
     "metadata": {},
     "output_type": "execute_result"
    }
   ],
   "source": [
    "#we see an entry with price which is 12 million. therefore we will also remove this\n",
    "df.price.sort_values(ascending=False)"
   ]
  },
  {
   "cell_type": "code",
   "execution_count": 13,
   "id": "30f33cf7",
   "metadata": {},
   "outputs": [
    {
     "data": {
      "text/plain": [
       "13     700000\n",
       "172    699000\n",
       "4      698000\n",
       "112    688000\n",
       "11     688000\n",
       "        ...  \n",
       "70     140000\n",
       "60     134000\n",
       "170    114000\n",
       "75     110000\n",
       "57     100000\n",
       "Name: price, Length: 175, dtype: int32"
      ]
     },
     "execution_count": 13,
     "metadata": {},
     "output_type": "execute_result"
    }
   ],
   "source": [
    "#remove outlier in price\n",
    "df = df.loc[~(df.price == 123456789),:]\n",
    "df.price.sort_values(ascending=False)"
   ]
  },
  {
   "cell_type": "code",
   "execution_count": 14,
   "id": "ff234a53",
   "metadata": {},
   "outputs": [
    {
     "data": {
      "text/plain": [
       "2022    27\n",
       "2021    24\n",
       "2019    18\n",
       "2018    18\n",
       "2017    17\n",
       "2016    14\n",
       "2013    12\n",
       "2015    10\n",
       "2020     9\n",
       "2008     7\n",
       "2014     6\n",
       "2012     4\n",
       "2007     3\n",
       "2010     2\n",
       "0        1\n",
       "2005     1\n",
       "2011     1\n",
       "2004     1\n",
       "Name: year, dtype: int64"
      ]
     },
     "execution_count": 14,
     "metadata": {},
     "output_type": "execute_result"
    }
   ],
   "source": [
    "#show the year values and their counts\n",
    "#we can see an entry with 0 as year. this will need to be removed\n",
    "df.year.value_counts()"
   ]
  },
  {
   "cell_type": "code",
   "execution_count": 15,
   "id": "f91e8f1c",
   "metadata": {},
   "outputs": [
    {
     "data": {
      "text/plain": [
       "2022    27\n",
       "2021    24\n",
       "2019    18\n",
       "2018    18\n",
       "2017    17\n",
       "2016    14\n",
       "2013    12\n",
       "2015    10\n",
       "2020     9\n",
       "2008     7\n",
       "2014     6\n",
       "2012     4\n",
       "2007     3\n",
       "2010     2\n",
       "2005     1\n",
       "2011     1\n",
       "2004     1\n",
       "Name: year, dtype: int64"
      ]
     },
     "execution_count": 15,
     "metadata": {},
     "output_type": "execute_result"
    }
   ],
   "source": [
    "#remove outlier in year\n",
    "df = df.loc[~(df.year == 0),:]\n",
    "df.year.value_counts()"
   ]
  },
  {
   "cell_type": "code",
   "execution_count": 16,
   "id": "9019d923",
   "metadata": {},
   "outputs": [
    {
     "data": {
      "text/plain": [
       "Automatic    98\n",
       "Manual       76\n",
       "Name: transmission, dtype: int64"
      ]
     },
     "execution_count": 16,
     "metadata": {},
     "output_type": "execute_result"
    }
   ],
   "source": [
    "#show the transmission values and their counts\n",
    "df.transmission.value_counts()"
   ]
  },
  {
   "cell_type": "code",
   "execution_count": 17,
   "id": "073a1184",
   "metadata": {},
   "outputs": [
    {
     "data": {
      "text/plain": [
       "E      76\n",
       "XLE    49\n",
       "G      23\n",
       "J      22\n",
       "XE      4\n",
       "Name: variant, dtype: int64"
      ]
     },
     "execution_count": 17,
     "metadata": {},
     "output_type": "execute_result"
    }
   ],
   "source": [
    "#show the variant values and their counts\n",
    "df.variant.value_counts()"
   ]
  },
  {
   "cell_type": "code",
   "execution_count": 18,
   "id": "43cafefc",
   "metadata": {},
   "outputs": [
    {
     "data": {
      "text/html": [
       "<div>\n",
       "<style scoped>\n",
       "    .dataframe tbody tr th:only-of-type {\n",
       "        vertical-align: middle;\n",
       "    }\n",
       "\n",
       "    .dataframe tbody tr th {\n",
       "        vertical-align: top;\n",
       "    }\n",
       "\n",
       "    .dataframe thead th {\n",
       "        text-align: right;\n",
       "    }\n",
       "</style>\n",
       "<table border=\"1\" class=\"dataframe\">\n",
       "  <thead>\n",
       "    <tr style=\"text-align: right;\">\n",
       "      <th></th>\n",
       "      <th>year</th>\n",
       "      <th>transmission</th>\n",
       "      <th>mileage</th>\n",
       "      <th>variant</th>\n",
       "      <th>price</th>\n",
       "    </tr>\n",
       "  </thead>\n",
       "  <tbody>\n",
       "    <tr>\n",
       "      <th>0</th>\n",
       "      <td>2021</td>\n",
       "      <td>Automatic</td>\n",
       "      <td>5000</td>\n",
       "      <td>XLE</td>\n",
       "      <td>598000</td>\n",
       "    </tr>\n",
       "    <tr>\n",
       "      <th>1</th>\n",
       "      <td>2021</td>\n",
       "      <td>Automatic</td>\n",
       "      <td>15000</td>\n",
       "      <td>XLE</td>\n",
       "      <td>579000</td>\n",
       "    </tr>\n",
       "    <tr>\n",
       "      <th>2</th>\n",
       "      <td>2021</td>\n",
       "      <td>Automatic</td>\n",
       "      <td>15000</td>\n",
       "      <td>XLE</td>\n",
       "      <td>680000</td>\n",
       "    </tr>\n",
       "    <tr>\n",
       "      <th>3</th>\n",
       "      <td>2021</td>\n",
       "      <td>Automatic</td>\n",
       "      <td>5000</td>\n",
       "      <td>XLE</td>\n",
       "      <td>628000</td>\n",
       "    </tr>\n",
       "    <tr>\n",
       "      <th>4</th>\n",
       "      <td>2020</td>\n",
       "      <td>Automatic</td>\n",
       "      <td>15000</td>\n",
       "      <td>G</td>\n",
       "      <td>698000</td>\n",
       "    </tr>\n",
       "  </tbody>\n",
       "</table>\n",
       "</div>"
      ],
      "text/plain": [
       "   year transmission  mileage variant   price\n",
       "0  2021    Automatic     5000     XLE  598000\n",
       "1  2021    Automatic    15000     XLE  579000\n",
       "2  2021    Automatic    15000     XLE  680000\n",
       "3  2021    Automatic     5000     XLE  628000\n",
       "4  2020    Automatic    15000      G   698000"
      ]
     },
     "execution_count": 18,
     "metadata": {},
     "output_type": "execute_result"
    }
   ],
   "source": [
    "#Get a subset of the data for EDA\n",
    "df1 = df[[\"year\", \"transmission\", \"mileage\", \"variant\", \"price\"]]\n",
    "df1.head()"
   ]
  },
  {
   "cell_type": "code",
   "execution_count": 19,
   "id": "237d647c",
   "metadata": {},
   "outputs": [],
   "source": [
    "#Data is now clean\n",
    "#it's time to explore our data and show some visualizations"
   ]
  },
  {
   "cell_type": "code",
   "execution_count": 20,
   "id": "4b5d3a4e",
   "metadata": {},
   "outputs": [],
   "source": [
    "import matplotlib.pyplot as plt\n",
    "%matplotlib inline"
   ]
  },
  {
   "cell_type": "code",
   "execution_count": 21,
   "id": "0516e3a7",
   "metadata": {},
   "outputs": [
    {
     "data": {
      "text/plain": [
       "Text(0.5, 1.0, 'Distribution by Year of Manufacture')"
      ]
     },
     "execution_count": 21,
     "metadata": {},
     "output_type": "execute_result"
    },
    {
     "data": {
      "image/png": "[encoded data removed]",
      "text/plain": [
       "<Figure size 800x500 with 1 Axes>"
      ]
     },
     "metadata": {},
     "output_type": "display_data"
    }
   ],
   "source": [
    "#listing distribution by car year manufactured\n",
    "df1.year.value_counts().sort_index().plot(kind=\"bar\", width=0.8, figsize=(8,5), rot=45)\n",
    "plt.ylabel(\"Count\")\n",
    "plt.xlabel(\"Year of Manufacture\")\n",
    "plt.title(\"Distribution by Year of Manufacture\")\n",
    "#Majority of the car listings are recent year models with 2022 models as the most listed"
   ]
  },
  {
   "cell_type": "code",
   "execution_count": 22,
   "id": "5d6418a2",
   "metadata": {},
   "outputs": [
    {
     "data": {
      "text/plain": [
       "Text(0.5, 1.0, 'Distribution by Car Variant')"
      ]
     },
     "execution_count": 22,
     "metadata": {},
     "output_type": "execute_result"
    },
    {
     "data": {
      "image/png": "[encoded data removed]",
      "text/plain": [
       "<Figure size 500x500 with 1 Axes>"
      ]
     },
     "metadata": {},
     "output_type": "display_data"
    }
   ],
   "source": [
    "#listing distribution by car variant\n",
    "df1.variant.value_counts().plot(kind=\"bar\", width=0.8, figsize=(5,5), rot=0)\n",
    "plt.ylabel(\"Count\")\n",
    "plt.xlabel(\"Toyota Vios Variant\")\n",
    "plt.title(\"Distribution by Car Variant\")\n",
    "#Most of the listings are Toyota Vios variant E\n",
    "#least listed model is Toyota Vios variant XE"
   ]
  },
  {
   "cell_type": "code",
   "execution_count": 23,
   "id": "ee73d3d4",
   "metadata": {},
   "outputs": [
    {
     "data": {
      "text/plain": [
       "Text(0.5, 1.0, 'Toyota Vios Variant Distribution')"
      ]
     },
     "execution_count": 23,
     "metadata": {},
     "output_type": "execute_result"
    },
    {
     "data": {
      "image/png": "[encoded data removed]",
      "text/plain": [
       "<Figure size 640x480 with 1 Axes>"
      ]
     },
     "metadata": {},
     "output_type": "display_data"
    }
   ],
   "source": [
    "#Pie chart to see percentage distributions\n",
    "df1.variant.value_counts().plot(kind=\"pie\", autopct='%1.1f%%', shadow=True, ylabel='')\n",
    "plt.title(\"Toyota Vios Variant Distribution\")\n",
    "#43% of the whole listing is variant E"
   ]
  },
  {
   "cell_type": "code",
   "execution_count": 24,
   "id": "e2c292af",
   "metadata": {},
   "outputs": [
    {
     "data": {
      "text/plain": [
       "Text(0.5, 1.0, 'Toyota Vios Approximate Mileage Distribution')"
      ]
     },
     "execution_count": 24,
     "metadata": {},
     "output_type": "execute_result"
    },
    {
     "data": {
      "image/png": "[encoded data removed]",
      "text/plain": [
       "<Figure size 800x500 with 1 Axes>"
      ]
     },
     "metadata": {},
     "output_type": "display_data"
    }
   ],
   "source": [
    "#listing distribution by approximate mileage\n",
    "df1.mileage.value_counts().sort_index().plot(kind=\"bar\", width=0.8, figsize=(8,5), rot=45)\n",
    "plt.ylabel(\"Count\")\n",
    "plt.xlabel(\"Approximate Mileage (km)\")\n",
    "plt.title(\"Toyota Vios Approximate Mileage Distribution\")\n",
    "#majority of the listing are in the low mileage category with 5000 (0-10000 km)"
   ]
  },
  {
   "cell_type": "code",
   "execution_count": 25,
   "id": "ef8eda2a",
   "metadata": {},
   "outputs": [
    {
     "data": {
      "text/plain": [
       "Text(0.5, 1.0, 'Toyota Vios Transmission Type Distribution')"
      ]
     },
     "execution_count": 25,
     "metadata": {},
     "output_type": "execute_result"
    },
    {
     "data": {
      "image/png": "[encoded data removed]",
      "text/plain": [
       "<Figure size 640x480 with 1 Axes>"
      ]
     },
     "metadata": {},
     "output_type": "display_data"
    }
   ],
   "source": [
    "#listing distribution of different transmission types\n",
    "df1.transmission.value_counts().plot(kind=\"pie\", autopct='%1.1f%%', shadow=True, ylabel='')\n",
    "plt.title(\"Toyota Vios Transmission Type Distribution\")\n",
    "#Automatic transmission account for a larger percentage of the listing but not by much"
   ]
  },
  {
   "cell_type": "code",
   "execution_count": 26,
   "id": "d05b4dc7",
   "metadata": {},
   "outputs": [
    {
     "data": {
      "text/plain": [
       "Text(0.5, 1.0, 'Price distribution')"
      ]
     },
     "execution_count": 26,
     "metadata": {},
     "output_type": "execute_result"
    },
    {
     "data": {
      "image/png": "[encoded data removed]",
      "text/plain": [
       "<Figure size 640x480 with 1 Axes>"
      ]
     },
     "metadata": {},
     "output_type": "display_data"
    }
   ],
   "source": [
    "#price distributions\n",
    "intervals = [x for x in range(50000,850000,100000)]\n",
    "plt.hist(df.price, bins=intervals, rwidth= 0.8)\n",
    "plt.xlabel(\"Price (Php)\")\n",
    "plt.ylabel(\"Count\")\n",
    "plt.title(\"Price distribution\")\n",
    "#Majority of the listing proces fall within 300k - 600k Php price range"
   ]
  },
  {
   "cell_type": "code",
   "execution_count": 29,
   "id": "cbe157aa",
   "metadata": {},
   "outputs": [
    {
     "data": {
      "text/html": [
       "<div>\n",
       "<style scoped>\n",
       "    .dataframe tbody tr th:only-of-type {\n",
       "        vertical-align: middle;\n",
       "    }\n",
       "\n",
       "    .dataframe tbody tr th {\n",
       "        vertical-align: top;\n",
       "    }\n",
       "\n",
       "    .dataframe thead th {\n",
       "        text-align: right;\n",
       "    }\n",
       "</style>\n",
       "<table border=\"1\" class=\"dataframe\">\n",
       "  <thead>\n",
       "    <tr style=\"text-align: right;\">\n",
       "      <th></th>\n",
       "      <th>year</th>\n",
       "      <th>transmission</th>\n",
       "      <th>price</th>\n",
       "      <th>mileage</th>\n",
       "      <th>XLE</th>\n",
       "      <th>XE</th>\n",
       "      <th>J</th>\n",
       "      <th>E</th>\n",
       "      <th>G</th>\n",
       "    </tr>\n",
       "  </thead>\n",
       "  <tbody>\n",
       "    <tr>\n",
       "      <th>0</th>\n",
       "      <td>2021</td>\n",
       "      <td>Automatic</td>\n",
       "      <td>598000</td>\n",
       "      <td>5000</td>\n",
       "      <td>1</td>\n",
       "      <td>0</td>\n",
       "      <td>0</td>\n",
       "      <td>1</td>\n",
       "      <td>0</td>\n",
       "    </tr>\n",
       "    <tr>\n",
       "      <th>1</th>\n",
       "      <td>2021</td>\n",
       "      <td>Automatic</td>\n",
       "      <td>579000</td>\n",
       "      <td>15000</td>\n",
       "      <td>1</td>\n",
       "      <td>0</td>\n",
       "      <td>0</td>\n",
       "      <td>1</td>\n",
       "      <td>0</td>\n",
       "    </tr>\n",
       "    <tr>\n",
       "      <th>2</th>\n",
       "      <td>2021</td>\n",
       "      <td>Automatic</td>\n",
       "      <td>680000</td>\n",
       "      <td>15000</td>\n",
       "      <td>1</td>\n",
       "      <td>0</td>\n",
       "      <td>0</td>\n",
       "      <td>1</td>\n",
       "      <td>0</td>\n",
       "    </tr>\n",
       "    <tr>\n",
       "      <th>3</th>\n",
       "      <td>2021</td>\n",
       "      <td>Automatic</td>\n",
       "      <td>628000</td>\n",
       "      <td>5000</td>\n",
       "      <td>1</td>\n",
       "      <td>0</td>\n",
       "      <td>0</td>\n",
       "      <td>1</td>\n",
       "      <td>0</td>\n",
       "    </tr>\n",
       "    <tr>\n",
       "      <th>4</th>\n",
       "      <td>2020</td>\n",
       "      <td>Automatic</td>\n",
       "      <td>698000</td>\n",
       "      <td>15000</td>\n",
       "      <td>0</td>\n",
       "      <td>0</td>\n",
       "      <td>0</td>\n",
       "      <td>0</td>\n",
       "      <td>1</td>\n",
       "    </tr>\n",
       "    <tr>\n",
       "      <th>...</th>\n",
       "      <td>...</td>\n",
       "      <td>...</td>\n",
       "      <td>...</td>\n",
       "      <td>...</td>\n",
       "      <td>...</td>\n",
       "      <td>...</td>\n",
       "      <td>...</td>\n",
       "      <td>...</td>\n",
       "      <td>...</td>\n",
       "    </tr>\n",
       "    <tr>\n",
       "      <th>169</th>\n",
       "      <td>2018</td>\n",
       "      <td>Manual</td>\n",
       "      <td>488000</td>\n",
       "      <td>25000</td>\n",
       "      <td>0</td>\n",
       "      <td>0</td>\n",
       "      <td>1</td>\n",
       "      <td>0</td>\n",
       "      <td>0</td>\n",
       "    </tr>\n",
       "    <tr>\n",
       "      <th>170</th>\n",
       "      <td>2017</td>\n",
       "      <td>Manual</td>\n",
       "      <td>449000</td>\n",
       "      <td>45000</td>\n",
       "      <td>0</td>\n",
       "      <td>0</td>\n",
       "      <td>0</td>\n",
       "      <td>1</td>\n",
       "      <td>0</td>\n",
       "    </tr>\n",
       "    <tr>\n",
       "      <th>171</th>\n",
       "      <td>2016</td>\n",
       "      <td>Manual</td>\n",
       "      <td>365000</td>\n",
       "      <td>175000</td>\n",
       "      <td>0</td>\n",
       "      <td>0</td>\n",
       "      <td>0</td>\n",
       "      <td>1</td>\n",
       "      <td>0</td>\n",
       "    </tr>\n",
       "    <tr>\n",
       "      <th>172</th>\n",
       "      <td>2017</td>\n",
       "      <td>Manual</td>\n",
       "      <td>440000</td>\n",
       "      <td>75000</td>\n",
       "      <td>0</td>\n",
       "      <td>0</td>\n",
       "      <td>0</td>\n",
       "      <td>1</td>\n",
       "      <td>0</td>\n",
       "    </tr>\n",
       "    <tr>\n",
       "      <th>173</th>\n",
       "      <td>2022</td>\n",
       "      <td>Automatic</td>\n",
       "      <td>658000</td>\n",
       "      <td>5000</td>\n",
       "      <td>1</td>\n",
       "      <td>0</td>\n",
       "      <td>0</td>\n",
       "      <td>1</td>\n",
       "      <td>0</td>\n",
       "    </tr>\n",
       "  </tbody>\n",
       "</table>\n",
       "<p>174 rows × 9 columns</p>\n",
       "</div>"
      ],
      "text/plain": [
       "     year transmission   price  mileage  XLE  XE  J   E   G \n",
       "0    2021    Automatic  598000     5000    1   0   0   1   0\n",
       "1    2021    Automatic  579000    15000    1   0   0   1   0\n",
       "2    2021    Automatic  680000    15000    1   0   0   1   0\n",
       "3    2021    Automatic  628000     5000    1   0   0   1   0\n",
       "4    2020    Automatic  698000    15000    0   0   0   0   1\n",
       "..    ...          ...     ...      ...  ...  ..  ..  ..  ..\n",
       "169  2018       Manual  488000    25000    0   0   1   0   0\n",
       "170  2017       Manual  449000    45000    0   0   0   1   0\n",
       "171  2016       Manual  365000   175000    0   0   0   1   0\n",
       "172  2017       Manual  440000    75000    0   0   0   1   0\n",
       "173  2022    Automatic  658000     5000    1   0   0   1   0\n",
       "\n",
       "[174 rows x 9 columns]"
      ]
     },
     "execution_count": 29,
     "metadata": {},
     "output_type": "execute_result"
    }
   ],
   "source": [
    "#save cleaned data for Part 3 Machine Learning model\n",
    "df2 = df.drop([\"desc\", \"variant\"], axis = \"columns\").reset_index(drop=True)\n",
    "df2"
   ]
  },
  {
   "cell_type": "code",
   "execution_count": 30,
   "id": "d429772d",
   "metadata": {},
   "outputs": [],
   "source": [
    "df2.to_csv(\"market data clean for ML.csv\")"
   ]
  },
  {
   "cell_type": "code",
   "execution_count": null,
   "id": "c411d4cd",
   "metadata": {},
   "outputs": [],
   "source": []
  }
 ],
 "metadata": {
  "kernelspec": {
   "display_name": "Python 3 (ipykernel)",
   "language": "python",
   "name": "python3"
  },
  "language_info": {
   "codemirror_mode": {
    "name": "ipython",
    "version": 3
   },
   "file_extension": ".py",
   "mimetype": "text/x-python",
   "name": "python",
   "nbconvert_exporter": "python",
   "pygments_lexer": "ipython3",
   "version": "3.9.13"
  }
 },
 "nbformat": 4,
 "nbformat_minor": 5
}
