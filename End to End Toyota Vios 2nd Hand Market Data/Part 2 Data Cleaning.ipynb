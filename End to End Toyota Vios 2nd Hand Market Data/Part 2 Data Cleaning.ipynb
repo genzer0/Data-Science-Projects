{
 "cells": [
  {
   "cell_type": "code",
   "execution_count": 1,
   "id": "58f4c216",
   "metadata": {},
   "outputs": [],
   "source": [
    "#import libraries\n",
    "import pandas as pd\n",
    "import numpy as np"
   ]
  },
  {
   "cell_type": "code",
   "execution_count": 2,
   "id": "1e21648b",
   "metadata": {},
   "outputs": [
    {
     "data": {
      "text/html": [
       "<div>\n",
       "<style scoped>\n",
       "    .dataframe tbody tr th:only-of-type {\n",
       "        vertical-align: middle;\n",
       "    }\n",
       "\n",
       "    .dataframe tbody tr th {\n",
       "        vertical-align: top;\n",
       "    }\n",
       "\n",
       "    .dataframe thead th {\n",
       "        text-align: right;\n",
       "    }\n",
       "</style>\n",
       "<table border=\"1\" class=\"dataframe\">\n",
       "  <thead>\n",
       "    <tr style=\"text-align: right;\">\n",
       "      <th></th>\n",
       "      <th>Unnamed: 0</th>\n",
       "      <th>year</th>\n",
       "      <th>transmission</th>\n",
       "      <th>price</th>\n",
       "      <th>mileage</th>\n",
       "      <th>desc</th>\n",
       "    </tr>\n",
       "  </thead>\n",
       "  <tbody>\n",
       "    <tr>\n",
       "      <th>0</th>\n",
       "      <td>0</td>\n",
       "      <td>2021</td>\n",
       "      <td>Automatic</td>\n",
       "      <td>PHP 598,000</td>\n",
       "      <td>0-10,000 km</td>\n",
       "      <td>2021 Toyota Vios 1.3xle very fresh must see Auto</td>\n",
       "    </tr>\n",
       "    <tr>\n",
       "      <th>1</th>\n",
       "      <td>1</td>\n",
       "      <td>2021</td>\n",
       "      <td>Automatic</td>\n",
       "      <td>PHP 579,000</td>\n",
       "      <td>10,001-20,000 km</td>\n",
       "      <td>2021 Toyota Vios 1.3 XLE AT Automatic Gas Auto</td>\n",
       "    </tr>\n",
       "    <tr>\n",
       "      <th>2</th>\n",
       "      <td>2</td>\n",
       "      <td>2021</td>\n",
       "      <td>Automatic</td>\n",
       "      <td>PHP 680,000</td>\n",
       "      <td>10,001-20,000 km</td>\n",
       "      <td>Toyota Vios 1.3 XLE Auto</td>\n",
       "    </tr>\n",
       "    <tr>\n",
       "      <th>3</th>\n",
       "      <td>3</td>\n",
       "      <td>2021</td>\n",
       "      <td>Automatic</td>\n",
       "      <td>PHP 628,000</td>\n",
       "      <td>0-10,000 km</td>\n",
       "      <td>2021 Toyota Vios 1.3 XLE CVT Automatic Blackis...</td>\n",
       "    </tr>\n",
       "    <tr>\n",
       "      <th>4</th>\n",
       "      <td>4</td>\n",
       "      <td>2020</td>\n",
       "      <td>Automatic</td>\n",
       "      <td>PHP 698,000</td>\n",
       "      <td>10,001-20,000 km</td>\n",
       "      <td>2020 Toyota Vios 1.5 G CVT AT 2020 Toyota Vios...</td>\n",
       "    </tr>\n",
       "  </tbody>\n",
       "</table>\n",
       "</div>"
      ],
      "text/plain": [
       "   Unnamed: 0  year transmission        price           mileage  \\\n",
       "0           0  2021    Automatic  PHP 598,000       0-10,000 km   \n",
       "1           1  2021    Automatic  PHP 579,000  10,001-20,000 km   \n",
       "2           2  2021    Automatic  PHP 680,000  10,001-20,000 km   \n",
       "3           3  2021    Automatic  PHP 628,000       0-10,000 km   \n",
       "4           4  2020    Automatic  PHP 698,000  10,001-20,000 km   \n",
       "\n",
       "                                                desc  \n",
       "0   2021 Toyota Vios 1.3xle very fresh must see Auto  \n",
       "1     2021 Toyota Vios 1.3 XLE AT Automatic Gas Auto  \n",
       "2                           Toyota Vios 1.3 XLE Auto  \n",
       "3  2021 Toyota Vios 1.3 XLE CVT Automatic Blackis...  \n",
       "4  2020 Toyota Vios 1.5 G CVT AT 2020 Toyota Vios...  "
      ]
     },
     "execution_count": 2,
     "metadata": {},
     "output_type": "execute_result"
    }
   ],
   "source": [
    "#import csv\n",
    "df = pd.read_csv(\"toyota vios market data.csv\")\n",
    "df.head()"
   ]
  },
  {
   "cell_type": "code",
   "execution_count": 3,
   "id": "62c573c5",
   "metadata": {},
   "outputs": [
    {
     "name": "stdout",
     "output_type": "stream",
     "text": [
      "<class 'pandas.core.frame.DataFrame'>\n",
      "RangeIndex: 192 entries, 0 to 191\n",
      "Data columns (total 6 columns):\n",
      " #   Column        Non-Null Count  Dtype \n",
      "---  ------        --------------  ----- \n",
      " 0   Unnamed: 0    192 non-null    int64 \n",
      " 1   year          192 non-null    int64 \n",
      " 2   transmission  192 non-null    object\n",
      " 3   price         192 non-null    object\n",
      " 4   mileage       192 non-null    object\n",
      " 5   desc          192 non-null    object\n",
      "dtypes: int64(2), object(4)\n",
      "memory usage: 9.1+ KB\n"
     ]
    }
   ],
   "source": [
    "df.info()"
   ]
  },
  {
   "cell_type": "code",
   "execution_count": 4,
   "id": "c23f5977",
   "metadata": {},
   "outputs": [
    {
     "data": {
      "text/html": [
       "<div>\n",
       "<style scoped>\n",
       "    .dataframe tbody tr th:only-of-type {\n",
       "        vertical-align: middle;\n",
       "    }\n",
       "\n",
       "    .dataframe tbody tr th {\n",
       "        vertical-align: top;\n",
       "    }\n",
       "\n",
       "    .dataframe thead th {\n",
       "        text-align: right;\n",
       "    }\n",
       "</style>\n",
       "<table border=\"1\" class=\"dataframe\">\n",
       "  <thead>\n",
       "    <tr style=\"text-align: right;\">\n",
       "      <th></th>\n",
       "      <th>year</th>\n",
       "      <th>transmission</th>\n",
       "      <th>price</th>\n",
       "      <th>mileage</th>\n",
       "      <th>desc</th>\n",
       "    </tr>\n",
       "  </thead>\n",
       "  <tbody>\n",
       "    <tr>\n",
       "      <th>0</th>\n",
       "      <td>2021</td>\n",
       "      <td>Automatic</td>\n",
       "      <td>PHP 598,000</td>\n",
       "      <td>0-10,000 km</td>\n",
       "      <td>2021 Toyota Vios 1.3xle very fresh must see Auto</td>\n",
       "    </tr>\n",
       "    <tr>\n",
       "      <th>1</th>\n",
       "      <td>2021</td>\n",
       "      <td>Automatic</td>\n",
       "      <td>PHP 579,000</td>\n",
       "      <td>10,001-20,000 km</td>\n",
       "      <td>2021 Toyota Vios 1.3 XLE AT Automatic Gas Auto</td>\n",
       "    </tr>\n",
       "    <tr>\n",
       "      <th>2</th>\n",
       "      <td>2021</td>\n",
       "      <td>Automatic</td>\n",
       "      <td>PHP 680,000</td>\n",
       "      <td>10,001-20,000 km</td>\n",
       "      <td>Toyota Vios 1.3 XLE Auto</td>\n",
       "    </tr>\n",
       "    <tr>\n",
       "      <th>3</th>\n",
       "      <td>2021</td>\n",
       "      <td>Automatic</td>\n",
       "      <td>PHP 628,000</td>\n",
       "      <td>0-10,000 km</td>\n",
       "      <td>2021 Toyota Vios 1.3 XLE CVT Automatic Blackis...</td>\n",
       "    </tr>\n",
       "    <tr>\n",
       "      <th>4</th>\n",
       "      <td>2020</td>\n",
       "      <td>Automatic</td>\n",
       "      <td>PHP 698,000</td>\n",
       "      <td>10,001-20,000 km</td>\n",
       "      <td>2020 Toyota Vios 1.5 G CVT AT 2020 Toyota Vios...</td>\n",
       "    </tr>\n",
       "  </tbody>\n",
       "</table>\n",
       "</div>"
      ],
      "text/plain": [
       "   year transmission        price           mileage  \\\n",
       "0  2021    Automatic  PHP 598,000       0-10,000 km   \n",
       "1  2021    Automatic  PHP 579,000  10,001-20,000 km   \n",
       "2  2021    Automatic  PHP 680,000  10,001-20,000 km   \n",
       "3  2021    Automatic  PHP 628,000       0-10,000 km   \n",
       "4  2020    Automatic  PHP 698,000  10,001-20,000 km   \n",
       "\n",
       "                                                desc  \n",
       "0   2021 Toyota Vios 1.3xle very fresh must see Auto  \n",
       "1     2021 Toyota Vios 1.3 XLE AT Automatic Gas Auto  \n",
       "2                           Toyota Vios 1.3 XLE Auto  \n",
       "3  2021 Toyota Vios 1.3 XLE CVT Automatic Blackis...  \n",
       "4  2020 Toyota Vios 1.5 G CVT AT 2020 Toyota Vios...  "
      ]
     },
     "execution_count": 4,
     "metadata": {},
     "output_type": "execute_result"
    }
   ],
   "source": [
    "#drop unnamed: 0 column\n",
    "df = df.drop([\"Unnamed: 0\"], axis = \"columns\")\n",
    "df.head()"
   ]
  },
  {
   "cell_type": "code",
   "execution_count": 5,
   "id": "9c21bcf7",
   "metadata": {},
   "outputs": [
    {
     "data": {
      "text/html": [
       "<div>\n",
       "<style scoped>\n",
       "    .dataframe tbody tr th:only-of-type {\n",
       "        vertical-align: middle;\n",
       "    }\n",
       "\n",
       "    .dataframe tbody tr th {\n",
       "        vertical-align: top;\n",
       "    }\n",
       "\n",
       "    .dataframe thead th {\n",
       "        text-align: right;\n",
       "    }\n",
       "</style>\n",
       "<table border=\"1\" class=\"dataframe\">\n",
       "  <thead>\n",
       "    <tr style=\"text-align: right;\">\n",
       "      <th></th>\n",
       "      <th>year</th>\n",
       "      <th>transmission</th>\n",
       "      <th>price</th>\n",
       "      <th>mileage</th>\n",
       "      <th>desc</th>\n",
       "    </tr>\n",
       "  </thead>\n",
       "  <tbody>\n",
       "    <tr>\n",
       "      <th>0</th>\n",
       "      <td>2021</td>\n",
       "      <td>Automatic</td>\n",
       "      <td>598000</td>\n",
       "      <td>0-10,000 km</td>\n",
       "      <td>2021 Toyota Vios 1.3xle very fresh must see Auto</td>\n",
       "    </tr>\n",
       "    <tr>\n",
       "      <th>1</th>\n",
       "      <td>2021</td>\n",
       "      <td>Automatic</td>\n",
       "      <td>579000</td>\n",
       "      <td>10,001-20,000 km</td>\n",
       "      <td>2021 Toyota Vios 1.3 XLE AT Automatic Gas Auto</td>\n",
       "    </tr>\n",
       "    <tr>\n",
       "      <th>2</th>\n",
       "      <td>2021</td>\n",
       "      <td>Automatic</td>\n",
       "      <td>680000</td>\n",
       "      <td>10,001-20,000 km</td>\n",
       "      <td>Toyota Vios 1.3 XLE Auto</td>\n",
       "    </tr>\n",
       "    <tr>\n",
       "      <th>3</th>\n",
       "      <td>2021</td>\n",
       "      <td>Automatic</td>\n",
       "      <td>628000</td>\n",
       "      <td>0-10,000 km</td>\n",
       "      <td>2021 Toyota Vios 1.3 XLE CVT Automatic Blackis...</td>\n",
       "    </tr>\n",
       "    <tr>\n",
       "      <th>4</th>\n",
       "      <td>2020</td>\n",
       "      <td>Automatic</td>\n",
       "      <td>698000</td>\n",
       "      <td>10,001-20,000 km</td>\n",
       "      <td>2020 Toyota Vios 1.5 G CVT AT 2020 Toyota Vios...</td>\n",
       "    </tr>\n",
       "  </tbody>\n",
       "</table>\n",
       "</div>"
      ],
      "text/plain": [
       "   year transmission   price           mileage  \\\n",
       "0  2021    Automatic  598000       0-10,000 km   \n",
       "1  2021    Automatic  579000  10,001-20,000 km   \n",
       "2  2021    Automatic  680000  10,001-20,000 km   \n",
       "3  2021    Automatic  628000       0-10,000 km   \n",
       "4  2020    Automatic  698000  10,001-20,000 km   \n",
       "\n",
       "                                                desc  \n",
       "0   2021 Toyota Vios 1.3xle very fresh must see Auto  \n",
       "1     2021 Toyota Vios 1.3 XLE AT Automatic Gas Auto  \n",
       "2                           Toyota Vios 1.3 XLE Auto  \n",
       "3  2021 Toyota Vios 1.3 XLE CVT Automatic Blackis...  \n",
       "4  2020 Toyota Vios 1.5 G CVT AT 2020 Toyota Vios...  "
      ]
     },
     "execution_count": 5,
     "metadata": {},
     "output_type": "execute_result"
    }
   ],
   "source": [
    "#convert price to numerical format\n",
    "num_price = [x.split(\" \")[1] for x in df.price]\n",
    "df.price = num_price\n",
    "#remove comma and convert to int dtype\n",
    "df.price = df.price.str.replace(',', '').astype(int)\n",
    "df.head()\n"
   ]
  },
  {
   "cell_type": "code",
   "execution_count": 6,
   "id": "00b1a028",
   "metadata": {},
   "outputs": [
    {
     "data": {
      "text/plain": [
       "array(['0-10,000 km', '10,001-20,000 km', '190,001-200,000 km',\n",
       "       '20,001-30,000 km', '80,001-90,000 km', '40,001-50,000 km',\n",
       "       '50,001-60,000 km', '60,001-70,000 km', '70,001-80,000 km',\n",
       "       '90,001-100,000 km', '100,001-120,000 km', '140,001-150,000 km',\n",
       "       '30,001-40,000 km', '120,001-130,000 km', '130,001-140,000 km',\n",
       "       '150,001-160,000 km', '170,001-180,000 km'], dtype=object)"
      ]
     },
     "execution_count": 6,
     "metadata": {},
     "output_type": "execute_result"
    }
   ],
   "source": [
    "#display unique values under mileage column\n",
    "df.mileage.unique()"
   ]
  },
  {
   "cell_type": "code",
   "execution_count": 7,
   "id": "34602344",
   "metadata": {},
   "outputs": [
    {
     "data": {
      "text/html": [
       "<div>\n",
       "<style scoped>\n",
       "    .dataframe tbody tr th:only-of-type {\n",
       "        vertical-align: middle;\n",
       "    }\n",
       "\n",
       "    .dataframe tbody tr th {\n",
       "        vertical-align: top;\n",
       "    }\n",
       "\n",
       "    .dataframe thead th {\n",
       "        text-align: right;\n",
       "    }\n",
       "</style>\n",
       "<table border=\"1\" class=\"dataframe\">\n",
       "  <thead>\n",
       "    <tr style=\"text-align: right;\">\n",
       "      <th></th>\n",
       "      <th>year</th>\n",
       "      <th>transmission</th>\n",
       "      <th>price</th>\n",
       "      <th>mileage</th>\n",
       "      <th>desc</th>\n",
       "    </tr>\n",
       "  </thead>\n",
       "  <tbody>\n",
       "    <tr>\n",
       "      <th>0</th>\n",
       "      <td>2021</td>\n",
       "      <td>Automatic</td>\n",
       "      <td>598000</td>\n",
       "      <td>5000</td>\n",
       "      <td>2021 Toyota Vios 1.3xle very fresh must see Auto</td>\n",
       "    </tr>\n",
       "    <tr>\n",
       "      <th>1</th>\n",
       "      <td>2021</td>\n",
       "      <td>Automatic</td>\n",
       "      <td>579000</td>\n",
       "      <td>15000</td>\n",
       "      <td>2021 Toyota Vios 1.3 XLE AT Automatic Gas Auto</td>\n",
       "    </tr>\n",
       "    <tr>\n",
       "      <th>2</th>\n",
       "      <td>2021</td>\n",
       "      <td>Automatic</td>\n",
       "      <td>680000</td>\n",
       "      <td>15000</td>\n",
       "      <td>Toyota Vios 1.3 XLE Auto</td>\n",
       "    </tr>\n",
       "    <tr>\n",
       "      <th>3</th>\n",
       "      <td>2021</td>\n",
       "      <td>Automatic</td>\n",
       "      <td>628000</td>\n",
       "      <td>5000</td>\n",
       "      <td>2021 Toyota Vios 1.3 XLE CVT Automatic Blackis...</td>\n",
       "    </tr>\n",
       "    <tr>\n",
       "      <th>4</th>\n",
       "      <td>2020</td>\n",
       "      <td>Automatic</td>\n",
       "      <td>698000</td>\n",
       "      <td>15000</td>\n",
       "      <td>2020 Toyota Vios 1.5 G CVT AT 2020 Toyota Vios...</td>\n",
       "    </tr>\n",
       "  </tbody>\n",
       "</table>\n",
       "</div>"
      ],
      "text/plain": [
       "   year transmission   price  mileage  \\\n",
       "0  2021    Automatic  598000     5000   \n",
       "1  2021    Automatic  579000    15000   \n",
       "2  2021    Automatic  680000    15000   \n",
       "3  2021    Automatic  628000     5000   \n",
       "4  2020    Automatic  698000    15000   \n",
       "\n",
       "                                                desc  \n",
       "0   2021 Toyota Vios 1.3xle very fresh must see Auto  \n",
       "1     2021 Toyota Vios 1.3 XLE AT Automatic Gas Auto  \n",
       "2                           Toyota Vios 1.3 XLE Auto  \n",
       "3  2021 Toyota Vios 1.3 XLE CVT Automatic Blackis...  \n",
       "4  2020 Toyota Vios 1.5 G CVT AT 2020 Toyota Vios...  "
      ]
     },
     "execution_count": 7,
     "metadata": {},
     "output_type": "execute_result"
    }
   ],
   "source": [
    "#I want to assign the mileage into a numerical value that's  why we will get the mean of the ranges\n",
    "#eg. 10,000 - 20,000 km converted to 15,000\n",
    "mileage_min = [int(x.split(\"-\")[0].replace(\",\", \"\")) for x in df.mileage]\n",
    "mileage_max = [int(x.replace(\" \",\"-\").split(\"-\")[1].replace(',', '')) for x in df.mileage]\n",
    "#convert list to array, get average and get floor value\n",
    "mileage_ave = np.floor((np.array(mileage_max) + np.array(mileage_min))/2)\n",
    "#convert to int dtype and replace values of mileage column\n",
    "\n",
    "df.mileage = mileage_ave.astype(int)\n",
    "df.head()\n"
   ]
  },
  {
   "cell_type": "code",
   "execution_count": 8,
   "id": "818cb56e",
   "metadata": {
    "scrolled": true
   },
   "outputs": [
    {
     "data": {
      "text/html": [
       "<div>\n",
       "<style scoped>\n",
       "    .dataframe tbody tr th:only-of-type {\n",
       "        vertical-align: middle;\n",
       "    }\n",
       "\n",
       "    .dataframe tbody tr th {\n",
       "        vertical-align: top;\n",
       "    }\n",
       "\n",
       "    .dataframe thead th {\n",
       "        text-align: right;\n",
       "    }\n",
       "</style>\n",
       "<table border=\"1\" class=\"dataframe\">\n",
       "  <thead>\n",
       "    <tr style=\"text-align: right;\">\n",
       "      <th></th>\n",
       "      <th>year</th>\n",
       "      <th>transmission</th>\n",
       "      <th>price</th>\n",
       "      <th>mileage</th>\n",
       "      <th>desc</th>\n",
       "      <th>XLE</th>\n",
       "      <th>XE</th>\n",
       "      <th>J</th>\n",
       "      <th>E</th>\n",
       "      <th>G</th>\n",
       "    </tr>\n",
       "  </thead>\n",
       "  <tbody>\n",
       "    <tr>\n",
       "      <th>0</th>\n",
       "      <td>2021</td>\n",
       "      <td>Automatic</td>\n",
       "      <td>598000</td>\n",
       "      <td>5000</td>\n",
       "      <td>2021 Toyota Vios 1.3xle very fresh must see Auto</td>\n",
       "      <td>1</td>\n",
       "      <td>0</td>\n",
       "      <td>0</td>\n",
       "      <td>1</td>\n",
       "      <td>0</td>\n",
       "    </tr>\n",
       "    <tr>\n",
       "      <th>1</th>\n",
       "      <td>2021</td>\n",
       "      <td>Automatic</td>\n",
       "      <td>579000</td>\n",
       "      <td>15000</td>\n",
       "      <td>2021 Toyota Vios 1.3 XLE AT Automatic Gas Auto</td>\n",
       "      <td>1</td>\n",
       "      <td>0</td>\n",
       "      <td>0</td>\n",
       "      <td>1</td>\n",
       "      <td>0</td>\n",
       "    </tr>\n",
       "    <tr>\n",
       "      <th>2</th>\n",
       "      <td>2021</td>\n",
       "      <td>Automatic</td>\n",
       "      <td>680000</td>\n",
       "      <td>15000</td>\n",
       "      <td>Toyota Vios 1.3 XLE Auto</td>\n",
       "      <td>1</td>\n",
       "      <td>0</td>\n",
       "      <td>0</td>\n",
       "      <td>1</td>\n",
       "      <td>0</td>\n",
       "    </tr>\n",
       "    <tr>\n",
       "      <th>3</th>\n",
       "      <td>2021</td>\n",
       "      <td>Automatic</td>\n",
       "      <td>628000</td>\n",
       "      <td>5000</td>\n",
       "      <td>2021 Toyota Vios 1.3 XLE CVT Automatic Blackis...</td>\n",
       "      <td>1</td>\n",
       "      <td>0</td>\n",
       "      <td>0</td>\n",
       "      <td>1</td>\n",
       "      <td>0</td>\n",
       "    </tr>\n",
       "    <tr>\n",
       "      <th>4</th>\n",
       "      <td>2020</td>\n",
       "      <td>Automatic</td>\n",
       "      <td>698000</td>\n",
       "      <td>15000</td>\n",
       "      <td>2020 Toyota Vios 1.5 G CVT AT 2020 Toyota Vios...</td>\n",
       "      <td>0</td>\n",
       "      <td>0</td>\n",
       "      <td>0</td>\n",
       "      <td>0</td>\n",
       "      <td>1</td>\n",
       "    </tr>\n",
       "  </tbody>\n",
       "</table>\n",
       "</div>"
      ],
      "text/plain": [
       "   year transmission   price  mileage  \\\n",
       "0  2021    Automatic  598000     5000   \n",
       "1  2021    Automatic  579000    15000   \n",
       "2  2021    Automatic  680000    15000   \n",
       "3  2021    Automatic  628000     5000   \n",
       "4  2020    Automatic  698000    15000   \n",
       "\n",
       "                                                desc  XLE  XE  J   E   G   \n",
       "0   2021 Toyota Vios 1.3xle very fresh must see Auto    1   0   0   1   0  \n",
       "1     2021 Toyota Vios 1.3 XLE AT Automatic Gas Auto    1   0   0   1   0  \n",
       "2                           Toyota Vios 1.3 XLE Auto    1   0   0   1   0  \n",
       "3  2021 Toyota Vios 1.3 XLE CVT Automatic Blackis...    1   0   0   1   0  \n",
       "4  2020 Toyota Vios 1.5 G CVT AT 2020 Toyota Vios...    0   0   0   0   1  "
      ]
     },
     "execution_count": 8,
     "metadata": {},
     "output_type": "execute_result"
    }
   ],
   "source": [
    "#get the variant of toyota vios\n",
    "#will do a one hot encode like label encoding\n",
    "\n",
    "variants = [\"XLE\", \"XE\", \"J \", \"E \", \"G \"]\n",
    "for v in variants:\n",
    "    find = [x.upper().find(v) for x in df.desc]\n",
    "    int_label = [1 if x > 1 else 0 for x in find]\n",
    "    df[v] = int_label\n",
    "df.head()   "
   ]
  },
  {
   "cell_type": "code",
   "execution_count": 9,
   "id": "eb76d56a",
   "metadata": {},
   "outputs": [
    {
     "data": {
      "text/plain": [
       "(176, 10)"
      ]
     },
     "execution_count": 9,
     "metadata": {},
     "output_type": "execute_result"
    }
   ],
   "source": [
    "#to increase the accuracy of the Machine Learning model that will be created in the later parts of this project\n",
    "#I decided to drop those rows without any variant\n",
    "df = df.loc[~((df[\"XLE\"] == 0) & (df[\"XE\"] == 0) & (df[\"J \"] == 0) & \n",
    "                  (df[\"E \"] == 0) & (df[\"G \"] == 0)),:]\n",
    "df.shape\n",
    "#16 rows dropped"
   ]
  },
  {
   "cell_type": "code",
   "execution_count": 10,
   "id": "0142ccf6",
   "metadata": {},
   "outputs": [
    {
     "data": {
      "text/html": [
       "<div>\n",
       "<style scoped>\n",
       "    .dataframe tbody tr th:only-of-type {\n",
       "        vertical-align: middle;\n",
       "    }\n",
       "\n",
       "    .dataframe tbody tr th {\n",
       "        vertical-align: top;\n",
       "    }\n",
       "\n",
       "    .dataframe thead th {\n",
       "        text-align: right;\n",
       "    }\n",
       "</style>\n",
       "<table border=\"1\" class=\"dataframe\">\n",
       "  <thead>\n",
       "    <tr style=\"text-align: right;\">\n",
       "      <th></th>\n",
       "      <th>year</th>\n",
       "      <th>transmission</th>\n",
       "      <th>price</th>\n",
       "      <th>mileage</th>\n",
       "      <th>desc</th>\n",
       "      <th>XLE</th>\n",
       "      <th>XE</th>\n",
       "      <th>J</th>\n",
       "      <th>E</th>\n",
       "      <th>G</th>\n",
       "      <th>variant</th>\n",
       "    </tr>\n",
       "  </thead>\n",
       "  <tbody>\n",
       "    <tr>\n",
       "      <th>0</th>\n",
       "      <td>2021</td>\n",
       "      <td>Automatic</td>\n",
       "      <td>598000</td>\n",
       "      <td>5000</td>\n",
       "      <td>2021 Toyota Vios 1.3xle very fresh must see Auto</td>\n",
       "      <td>1</td>\n",
       "      <td>0</td>\n",
       "      <td>0</td>\n",
       "      <td>1</td>\n",
       "      <td>0</td>\n",
       "      <td>XLE</td>\n",
       "    </tr>\n",
       "    <tr>\n",
       "      <th>1</th>\n",
       "      <td>2021</td>\n",
       "      <td>Automatic</td>\n",
       "      <td>579000</td>\n",
       "      <td>15000</td>\n",
       "      <td>2021 Toyota Vios 1.3 XLE AT Automatic Gas Auto</td>\n",
       "      <td>1</td>\n",
       "      <td>0</td>\n",
       "      <td>0</td>\n",
       "      <td>1</td>\n",
       "      <td>0</td>\n",
       "      <td>XLE</td>\n",
       "    </tr>\n",
       "    <tr>\n",
       "      <th>2</th>\n",
       "      <td>2021</td>\n",
       "      <td>Automatic</td>\n",
       "      <td>680000</td>\n",
       "      <td>15000</td>\n",
       "      <td>Toyota Vios 1.3 XLE Auto</td>\n",
       "      <td>1</td>\n",
       "      <td>0</td>\n",
       "      <td>0</td>\n",
       "      <td>1</td>\n",
       "      <td>0</td>\n",
       "      <td>XLE</td>\n",
       "    </tr>\n",
       "    <tr>\n",
       "      <th>3</th>\n",
       "      <td>2021</td>\n",
       "      <td>Automatic</td>\n",
       "      <td>628000</td>\n",
       "      <td>5000</td>\n",
       "      <td>2021 Toyota Vios 1.3 XLE CVT Automatic Blackis...</td>\n",
       "      <td>1</td>\n",
       "      <td>0</td>\n",
       "      <td>0</td>\n",
       "      <td>1</td>\n",
       "      <td>0</td>\n",
       "      <td>XLE</td>\n",
       "    </tr>\n",
       "    <tr>\n",
       "      <th>4</th>\n",
       "      <td>2020</td>\n",
       "      <td>Automatic</td>\n",
       "      <td>698000</td>\n",
       "      <td>15000</td>\n",
       "      <td>2020 Toyota Vios 1.5 G CVT AT 2020 Toyota Vios...</td>\n",
       "      <td>0</td>\n",
       "      <td>0</td>\n",
       "      <td>0</td>\n",
       "      <td>0</td>\n",
       "      <td>1</td>\n",
       "      <td>G</td>\n",
       "    </tr>\n",
       "  </tbody>\n",
       "</table>\n",
       "</div>"
      ],
      "text/plain": [
       "   year transmission   price  mileage  \\\n",
       "0  2021    Automatic  598000     5000   \n",
       "1  2021    Automatic  579000    15000   \n",
       "2  2021    Automatic  680000    15000   \n",
       "3  2021    Automatic  628000     5000   \n",
       "4  2020    Automatic  698000    15000   \n",
       "\n",
       "                                                desc  XLE  XE  J   E   G   \\\n",
       "0   2021 Toyota Vios 1.3xle very fresh must see Auto    1   0   0   1   0   \n",
       "1     2021 Toyota Vios 1.3 XLE AT Automatic Gas Auto    1   0   0   1   0   \n",
       "2                           Toyota Vios 1.3 XLE Auto    1   0   0   1   0   \n",
       "3  2021 Toyota Vios 1.3 XLE CVT Automatic Blackis...    1   0   0   1   0   \n",
       "4  2020 Toyota Vios 1.5 G CVT AT 2020 Toyota Vios...    0   0   0   0   1   \n",
       "\n",
       "  variant  \n",
       "0     XLE  \n",
       "1     XLE  \n",
       "2     XLE  \n",
       "3     XLE  \n",
       "4      G   "
      ]
     },
     "execution_count": 10,
     "metadata": {},
     "output_type": "execute_result"
    }
   ],
   "source": [
    "#reverse one hot encoding using idxmax(1)\n",
    "variants = df[[\"XLE\",\"XE\",\"J \",\"E \",\"G \"]]\n",
    "variant = pd.get_dummies(variants).idxmax(1)\n",
    "df[\"variant\"] = variant\n",
    "df.head()"
   ]
  },
  {
   "cell_type": "code",
   "execution_count": 11,
   "id": "43cafefc",
   "metadata": {},
   "outputs": [
    {
     "data": {
      "text/html": [
       "<div>\n",
       "<style scoped>\n",
       "    .dataframe tbody tr th:only-of-type {\n",
       "        vertical-align: middle;\n",
       "    }\n",
       "\n",
       "    .dataframe tbody tr th {\n",
       "        vertical-align: top;\n",
       "    }\n",
       "\n",
       "    .dataframe thead th {\n",
       "        text-align: right;\n",
       "    }\n",
       "</style>\n",
       "<table border=\"1\" class=\"dataframe\">\n",
       "  <thead>\n",
       "    <tr style=\"text-align: right;\">\n",
       "      <th></th>\n",
       "      <th>year</th>\n",
       "      <th>transmission</th>\n",
       "      <th>mileage</th>\n",
       "      <th>variant</th>\n",
       "      <th>price</th>\n",
       "    </tr>\n",
       "  </thead>\n",
       "  <tbody>\n",
       "    <tr>\n",
       "      <th>0</th>\n",
       "      <td>2021</td>\n",
       "      <td>Automatic</td>\n",
       "      <td>5000</td>\n",
       "      <td>XLE</td>\n",
       "      <td>598000</td>\n",
       "    </tr>\n",
       "    <tr>\n",
       "      <th>1</th>\n",
       "      <td>2021</td>\n",
       "      <td>Automatic</td>\n",
       "      <td>15000</td>\n",
       "      <td>XLE</td>\n",
       "      <td>579000</td>\n",
       "    </tr>\n",
       "    <tr>\n",
       "      <th>2</th>\n",
       "      <td>2021</td>\n",
       "      <td>Automatic</td>\n",
       "      <td>15000</td>\n",
       "      <td>XLE</td>\n",
       "      <td>680000</td>\n",
       "    </tr>\n",
       "    <tr>\n",
       "      <th>3</th>\n",
       "      <td>2021</td>\n",
       "      <td>Automatic</td>\n",
       "      <td>5000</td>\n",
       "      <td>XLE</td>\n",
       "      <td>628000</td>\n",
       "    </tr>\n",
       "    <tr>\n",
       "      <th>4</th>\n",
       "      <td>2020</td>\n",
       "      <td>Automatic</td>\n",
       "      <td>15000</td>\n",
       "      <td>G</td>\n",
       "      <td>698000</td>\n",
       "    </tr>\n",
       "  </tbody>\n",
       "</table>\n",
       "</div>"
      ],
      "text/plain": [
       "   year transmission  mileage variant   price\n",
       "0  2021    Automatic     5000     XLE  598000\n",
       "1  2021    Automatic    15000     XLE  579000\n",
       "2  2021    Automatic    15000     XLE  680000\n",
       "3  2021    Automatic     5000     XLE  628000\n",
       "4  2020    Automatic    15000      G   698000"
      ]
     },
     "execution_count": 11,
     "metadata": {},
     "output_type": "execute_result"
    }
   ],
   "source": [
    "#Do some further data cleaning before EDA\n",
    "df1 = df[[\"year\", \"transmission\", \"mileage\", \"variant\", \"price\"]]\n",
    "df1.head()"
   ]
  },
  {
   "cell_type": "code",
   "execution_count": 12,
   "id": "ab793a2e",
   "metadata": {},
   "outputs": [
    {
     "data": {
      "text/html": [
       "<div>\n",
       "<style scoped>\n",
       "    .dataframe tbody tr th:only-of-type {\n",
       "        vertical-align: middle;\n",
       "    }\n",
       "\n",
       "    .dataframe tbody tr th {\n",
       "        vertical-align: top;\n",
       "    }\n",
       "\n",
       "    .dataframe thead th {\n",
       "        text-align: right;\n",
       "    }\n",
       "</style>\n",
       "<table border=\"1\" class=\"dataframe\">\n",
       "  <thead>\n",
       "    <tr style=\"text-align: right;\">\n",
       "      <th></th>\n",
       "      <th>year</th>\n",
       "      <th>mileage</th>\n",
       "      <th>price</th>\n",
       "    </tr>\n",
       "  </thead>\n",
       "  <tbody>\n",
       "    <tr>\n",
       "      <th>count</th>\n",
       "      <td>176.000000</td>\n",
       "      <td>176.000000</td>\n",
       "      <td>1.760000e+02</td>\n",
       "    </tr>\n",
       "    <tr>\n",
       "      <th>mean</th>\n",
       "      <td>2005.789773</td>\n",
       "      <td>42528.409091</td>\n",
       "      <td>1.164859e+06</td>\n",
       "    </tr>\n",
       "    <tr>\n",
       "      <th>std</th>\n",
       "      <td>152.113026</td>\n",
       "      <td>40767.624266</td>\n",
       "      <td>9.271938e+06</td>\n",
       "    </tr>\n",
       "    <tr>\n",
       "      <th>min</th>\n",
       "      <td>0.000000</td>\n",
       "      <td>5000.000000</td>\n",
       "      <td>1.000000e+05</td>\n",
       "    </tr>\n",
       "    <tr>\n",
       "      <th>25%</th>\n",
       "      <td>2015.000000</td>\n",
       "      <td>15000.000000</td>\n",
       "      <td>3.545000e+05</td>\n",
       "    </tr>\n",
       "    <tr>\n",
       "      <th>50%</th>\n",
       "      <td>2018.000000</td>\n",
       "      <td>25000.000000</td>\n",
       "      <td>4.665000e+05</td>\n",
       "    </tr>\n",
       "    <tr>\n",
       "      <th>75%</th>\n",
       "      <td>2021.000000</td>\n",
       "      <td>65000.000000</td>\n",
       "      <td>6.100000e+05</td>\n",
       "    </tr>\n",
       "    <tr>\n",
       "      <th>max</th>\n",
       "      <td>2022.000000</td>\n",
       "      <td>195000.000000</td>\n",
       "      <td>1.234568e+08</td>\n",
       "    </tr>\n",
       "  </tbody>\n",
       "</table>\n",
       "</div>"
      ],
      "text/plain": [
       "              year        mileage         price\n",
       "count   176.000000     176.000000  1.760000e+02\n",
       "mean   2005.789773   42528.409091  1.164859e+06\n",
       "std     152.113026   40767.624266  9.271938e+06\n",
       "min       0.000000    5000.000000  1.000000e+05\n",
       "25%    2015.000000   15000.000000  3.545000e+05\n",
       "50%    2018.000000   25000.000000  4.665000e+05\n",
       "75%    2021.000000   65000.000000  6.100000e+05\n",
       "max    2022.000000  195000.000000  1.234568e+08"
      ]
     },
     "execution_count": 12,
     "metadata": {},
     "output_type": "execute_result"
    }
   ],
   "source": [
    "df1.describe()"
   ]
  },
  {
   "cell_type": "code",
   "execution_count": 13,
   "id": "8b9c7d5d",
   "metadata": {},
   "outputs": [
    {
     "data": {
      "text/plain": [
       "191    123456789\n",
       "13        700000\n",
       "172       699000\n",
       "4         698000\n",
       "112       688000\n",
       "         ...    \n",
       "70        140000\n",
       "60        134000\n",
       "170       114000\n",
       "75        110000\n",
       "57        100000\n",
       "Name: price, Length: 176, dtype: int32"
      ]
     },
     "execution_count": 13,
     "metadata": {},
     "output_type": "execute_result"
    }
   ],
   "source": [
    "#we see an entry with price which is 12 million. therefore we will also remove this\n",
    "df1.price.sort_values(ascending=False)"
   ]
  },
  {
   "cell_type": "code",
   "execution_count": 14,
   "id": "c4e4c871",
   "metadata": {},
   "outputs": [
    {
     "data": {
      "text/plain": [
       "13     700000\n",
       "172    699000\n",
       "4      698000\n",
       "112    688000\n",
       "11     688000\n",
       "        ...  \n",
       "70     140000\n",
       "60     134000\n",
       "170    114000\n",
       "75     110000\n",
       "57     100000\n",
       "Name: price, Length: 175, dtype: int32"
      ]
     },
     "execution_count": 14,
     "metadata": {},
     "output_type": "execute_result"
    }
   ],
   "source": [
    "#remove outlier in price\n",
    "df1 = df1.loc[~(df.price == 123456789),:]\n",
    "df1.price.sort_values(ascending=False)"
   ]
  },
  {
   "cell_type": "code",
   "execution_count": 15,
   "id": "aa93a942",
   "metadata": {},
   "outputs": [
    {
     "data": {
      "text/plain": [
       "2022    27\n",
       "2021    24\n",
       "2019    18\n",
       "2018    18\n",
       "2017    17\n",
       "2016    14\n",
       "2013    12\n",
       "2015    10\n",
       "2020     9\n",
       "2008     7\n",
       "2014     6\n",
       "2012     4\n",
       "2007     3\n",
       "2010     2\n",
       "0        1\n",
       "2005     1\n",
       "2011     1\n",
       "2004     1\n",
       "Name: year, dtype: int64"
      ]
     },
     "execution_count": 15,
     "metadata": {},
     "output_type": "execute_result"
    }
   ],
   "source": [
    "#show the year values and their counts\n",
    "#we can see an entry with 0 as year. this will need to be removed\n",
    "df1.year.value_counts()"
   ]
  },
  {
   "cell_type": "code",
   "execution_count": 16,
   "id": "8206537c",
   "metadata": {},
   "outputs": [
    {
     "data": {
      "text/plain": [
       "2022    27\n",
       "2021    24\n",
       "2019    18\n",
       "2018    18\n",
       "2017    17\n",
       "2016    14\n",
       "2013    12\n",
       "2015    10\n",
       "2020     9\n",
       "2008     7\n",
       "2014     6\n",
       "2012     4\n",
       "2007     3\n",
       "2010     2\n",
       "2005     1\n",
       "2011     1\n",
       "2004     1\n",
       "Name: year, dtype: int64"
      ]
     },
     "execution_count": 16,
     "metadata": {},
     "output_type": "execute_result"
    }
   ],
   "source": [
    "#remove outlier in year\n",
    "df1 = df1.loc[~(df.year == 0),:]\n",
    "df1.year.value_counts()"
   ]
  },
  {
   "cell_type": "code",
   "execution_count": 17,
   "id": "5414a783",
   "metadata": {},
   "outputs": [
    {
     "data": {
      "text/plain": [
       "Automatic    98\n",
       "Manual       76\n",
       "Name: transmission, dtype: int64"
      ]
     },
     "execution_count": 17,
     "metadata": {},
     "output_type": "execute_result"
    }
   ],
   "source": [
    "#show the transmission values and their counts\n",
    "df1.transmission.value_counts()"
   ]
  },
  {
   "cell_type": "code",
   "execution_count": 18,
   "id": "40188f08",
   "metadata": {},
   "outputs": [
    {
     "data": {
      "text/plain": [
       "E      76\n",
       "XLE    49\n",
       "G      23\n",
       "J      22\n",
       "XE      4\n",
       "Name: variant, dtype: int64"
      ]
     },
     "execution_count": 18,
     "metadata": {},
     "output_type": "execute_result"
    }
   ],
   "source": [
    "#show the variant values and their counts\n",
    "df1.variant.value_counts()"
   ]
  },
  {
   "cell_type": "code",
   "execution_count": 19,
   "id": "237d647c",
   "metadata": {},
   "outputs": [],
   "source": [
    "#Data is now clean\n",
    "#it's time to explore our data and show some visualizations"
   ]
  },
  {
   "cell_type": "code",
   "execution_count": 20,
   "id": "4b5d3a4e",
   "metadata": {},
   "outputs": [],
   "source": [
    "import matplotlib.pyplot as plt\n",
    "%matplotlib inline"
   ]
  },
  {
   "cell_type": "code",
   "execution_count": 32,
   "id": "0516e3a7",
   "metadata": {},
   "outputs": [
    {
     "data": {
      "text/plain": [
       "Text(0.5, 1.0, 'Toyota Vios Year Manufactured Distribution')"
      ]
     },
     "execution_count": 32,
     "metadata": {},
     "output_type": "execute_result"
    },
    {
     "data": {
      "image/png": "[encoded data removed]",
      "text/plain": [
       "<Figure size 800x500 with 1 Axes>"
      ]
     },
     "metadata": {},
     "output_type": "display_data"
    }
   ],
   "source": [
    "#listing distribution by car year model\n",
    "df1.year.value_counts().sort_index().plot(kind=\"bar\", width=0.8, figsize=(8,5), rot=45)\n",
    "plt.ylabel(\"Count\")\n",
    "plt.xlabel(\"Manufacture Year\")\n",
    "plt.title(\"Toyota Vios Year Manufactured Distribution\")\n",
    "#majority of the car for sale are recent models"
   ]
  },
  {
   "cell_type": "code",
   "execution_count": 34,
   "id": "5d6418a2",
   "metadata": {},
   "outputs": [
    {
     "data": {
      "text/plain": [
       "Text(0.5, 1.0, 'Toyota Vios Variant Distribution')"
      ]
     },
     "execution_count": 34,
     "metadata": {},
     "output_type": "execute_result"
    },
    {
     "data": {
      "image/png": "[encoded data removed]",
      "text/plain": [
       "<Figure size 500x500 with 1 Axes>"
      ]
     },
     "metadata": {},
     "output_type": "display_data"
    }
   ],
   "source": [
    "#listing distribution by car variant\n",
    "df1.variant.value_counts().plot(kind=\"bar\", width=0.8, figsize=(5,5), rot=0)\n",
    "plt.ylabel(\"Count\")\n",
    "plt.xlabel(\"Variants\")\n",
    "plt.title(\"Toyota Vios Variant Distribution\")\n",
    "#majority of the car variants are variant E\n",
    "#variant XE is the least listed model"
   ]
  },
  {
   "cell_type": "code",
   "execution_count": 27,
   "id": "ee73d3d4",
   "metadata": {},
   "outputs": [
    {
     "data": {
      "text/plain": [
       "Text(0.5, 1.0, 'Toyota Vios Variant Distribution')"
      ]
     },
     "execution_count": 27,
     "metadata": {},
     "output_type": "execute_result"
    },
    {
     "data": {
      "image/png": "[encoded data removed]",
      "text/plain": [
       "<Figure size 640x480 with 1 Axes>"
      ]
     },
     "metadata": {},
     "output_type": "display_data"
    }
   ],
   "source": [
    "#pie chart of variant distribution\n",
    "df1.variant.value_counts().plot(kind=\"pie\", autopct='%1.1f%%', shadow=True, ylabel='')\n",
    "plt.title(\"Toyota Vios Variant Distribution\")"
   ]
  },
  {
   "cell_type": "code",
   "execution_count": 37,
   "id": "e2c292af",
   "metadata": {},
   "outputs": [
    {
     "data": {
      "text/plain": [
       "Text(0.5, 1.0, 'Toyota Vios Approximate Mileage Distribution')"
      ]
     },
     "execution_count": 37,
     "metadata": {},
     "output_type": "execute_result"
    },
    {
     "data": {
      "image/png": "[encoded data removed]",
      "text/plain": [
       "<Figure size 800x500 with 1 Axes>"
      ]
     },
     "metadata": {},
     "output_type": "display_data"
    }
   ],
   "source": [
    "#listing distribution by approximate mileage\n",
    "df1.mileage.value_counts().sort_index().plot(kind=\"bar\", width=0.8, figsize=(8,5), rot=45)\n",
    "plt.ylabel(\"Count\")\n",
    "plt.xlabel(\"Approximate Mileage\")\n",
    "plt.title(\"Toyota Vios Approximate Mileage Distribution\")\n",
    "#majority of the listing are in the low mileage category"
   ]
  },
  {
   "cell_type": "code",
   "execution_count": null,
   "id": "ef8eda2a",
   "metadata": {},
   "outputs": [],
   "source": []
  }
 ],
 "metadata": {
  "kernelspec": {
   "display_name": "Python 3 (ipykernel)",
   "language": "python",
   "name": "python3"
  },
  "language_info": {
   "codemirror_mode": {
    "name": "ipython",
    "version": 3
   },
   "file_extension": ".py",
   "mimetype": "text/x-python",
   "name": "python",
   "nbconvert_exporter": "python",
   "pygments_lexer": "ipython3",
   "version": "3.9.13"
  }
 },
 "nbformat": 4,
 "nbformat_minor": 5
}
