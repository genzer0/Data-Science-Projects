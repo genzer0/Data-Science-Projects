{
 "cells": [
  {
   "cell_type": "code",
   "execution_count": 1,
   "id": "1f380127",
   "metadata": {},
   "outputs": [],
   "source": [
    "#This dataset is sourced from https://data.nasa.gov/"
   ]
  },
  {
   "cell_type": "code",
   "execution_count": 2,
   "id": "41b08f80",
   "metadata": {},
   "outputs": [],
   "source": [
    "import pandas as pd"
   ]
  },
  {
   "cell_type": "code",
   "execution_count": 3,
   "id": "a53f908b",
   "metadata": {},
   "outputs": [
    {
     "data": {
      "text/html": [
       "<div>\n",
       "<style scoped>\n",
       "    .dataframe tbody tr th:only-of-type {\n",
       "        vertical-align: middle;\n",
       "    }\n",
       "\n",
       "    .dataframe tbody tr th {\n",
       "        vertical-align: top;\n",
       "    }\n",
       "\n",
       "    .dataframe thead th {\n",
       "        text-align: right;\n",
       "    }\n",
       "</style>\n",
       "<table border=\"1\" class=\"dataframe\">\n",
       "  <thead>\n",
       "    <tr style=\"text-align: right;\">\n",
       "      <th></th>\n",
       "      <th>Date/Time - Peak Brightness (UT)</th>\n",
       "      <th>Latitude (Deg)</th>\n",
       "      <th>Longitude (Deg)</th>\n",
       "      <th>Altitude (km)</th>\n",
       "      <th>Velocity (km/s)</th>\n",
       "      <th>Velocity Components (km/s): vx</th>\n",
       "      <th>Velocity Components (km/s): vy</th>\n",
       "      <th>Velocity Components (km/s): vz</th>\n",
       "      <th>Total Radiated Energy (J)</th>\n",
       "      <th>Calculated Total Impact Energy (kt)</th>\n",
       "    </tr>\n",
       "  </thead>\n",
       "  <tbody>\n",
       "    <tr>\n",
       "      <th>0</th>\n",
       "      <td>11/21/2009 08:53:00 PM</td>\n",
       "      <td>22.0S</td>\n",
       "      <td>29.2E</td>\n",
       "      <td>38.0</td>\n",
       "      <td>32.1</td>\n",
       "      <td>3.0</td>\n",
       "      <td>-17.0</td>\n",
       "      <td>-27.0</td>\n",
       "      <td>10000000000000</td>\n",
       "      <td>18.00</td>\n",
       "    </tr>\n",
       "    <tr>\n",
       "      <th>1</th>\n",
       "      <td>01/09/2015 10:41:11 AM</td>\n",
       "      <td>2.0N</td>\n",
       "      <td>28.8E</td>\n",
       "      <td>36.0</td>\n",
       "      <td>NaN</td>\n",
       "      <td>-10.7</td>\n",
       "      <td>-7.6</td>\n",
       "      <td>11.6</td>\n",
       "      <td>139000000000</td>\n",
       "      <td>0.41</td>\n",
       "    </tr>\n",
       "    <tr>\n",
       "      <th>2</th>\n",
       "      <td>05/16/2014 12:42:48 PM</td>\n",
       "      <td>44.2S</td>\n",
       "      <td>176.2W</td>\n",
       "      <td>44.0</td>\n",
       "      <td>NaN</td>\n",
       "      <td>14.4</td>\n",
       "      <td>4.6</td>\n",
       "      <td>6.5</td>\n",
       "      <td>309000000000</td>\n",
       "      <td>0.82</td>\n",
       "    </tr>\n",
       "    <tr>\n",
       "      <th>3</th>\n",
       "      <td>08/23/2014 06:29:41 AM</td>\n",
       "      <td>61.7S</td>\n",
       "      <td>132.6E</td>\n",
       "      <td>22.2</td>\n",
       "      <td>16.2</td>\n",
       "      <td>-2.3</td>\n",
       "      <td>5.7</td>\n",
       "      <td>16.5</td>\n",
       "      <td>3820000000000</td>\n",
       "      <td>7.60</td>\n",
       "    </tr>\n",
       "    <tr>\n",
       "      <th>4</th>\n",
       "      <td>12/12/2014 06:48:11 AM</td>\n",
       "      <td>33.5N</td>\n",
       "      <td>144.9E</td>\n",
       "      <td>26.3</td>\n",
       "      <td>NaN</td>\n",
       "      <td>11.5</td>\n",
       "      <td>-2.8</td>\n",
       "      <td>-2.2</td>\n",
       "      <td>33000000000</td>\n",
       "      <td>0.11</td>\n",
       "    </tr>\n",
       "  </tbody>\n",
       "</table>\n",
       "</div>"
      ],
      "text/plain": [
       "  Date/Time - Peak Brightness (UT) Latitude (Deg) Longitude (Deg)  \\\n",
       "0           11/21/2009 08:53:00 PM          22.0S           29.2E   \n",
       "1           01/09/2015 10:41:11 AM           2.0N           28.8E   \n",
       "2           05/16/2014 12:42:48 PM          44.2S          176.2W   \n",
       "3           08/23/2014 06:29:41 AM          61.7S          132.6E   \n",
       "4           12/12/2014 06:48:11 AM          33.5N          144.9E   \n",
       "\n",
       "   Altitude (km)  Velocity (km/s)  Velocity Components (km/s): vx  \\\n",
       "0           38.0             32.1                             3.0   \n",
       "1           36.0              NaN                           -10.7   \n",
       "2           44.0              NaN                            14.4   \n",
       "3           22.2             16.2                            -2.3   \n",
       "4           26.3              NaN                            11.5   \n",
       "\n",
       "   Velocity Components (km/s): vy  Velocity Components (km/s): vz  \\\n",
       "0                           -17.0                           -27.0   \n",
       "1                            -7.6                            11.6   \n",
       "2                             4.6                             6.5   \n",
       "3                             5.7                            16.5   \n",
       "4                            -2.8                            -2.2   \n",
       "\n",
       "   Total Radiated Energy (J)  Calculated Total Impact Energy (kt)  \n",
       "0             10000000000000                                18.00  \n",
       "1               139000000000                                 0.41  \n",
       "2               309000000000                                 0.82  \n",
       "3              3820000000000                                 7.60  \n",
       "4                33000000000                                 0.11  "
      ]
     },
     "execution_count": 3,
     "metadata": {},
     "output_type": "execute_result"
    }
   ],
   "source": [
    "df = pd.read_csv(\"Fireball_And_Bolide_Reports.csv\")\n",
    "df.head()"
   ]
  },
  {
   "cell_type": "code",
   "execution_count": 4,
   "id": "da2d5734",
   "metadata": {},
   "outputs": [
    {
     "data": {
      "text/plain": [
       "(92, 10)"
      ]
     },
     "execution_count": 4,
     "metadata": {},
     "output_type": "execute_result"
    }
   ],
   "source": [
    "df.shape\n",
    "#92 rows and 10 columns"
   ]
  },
  {
   "cell_type": "code",
   "execution_count": 5,
   "id": "a0eb4d59",
   "metadata": {},
   "outputs": [
    {
     "name": "stdout",
     "output_type": "stream",
     "text": [
      "<class 'pandas.core.frame.DataFrame'>\n",
      "RangeIndex: 92 entries, 0 to 91\n",
      "Data columns (total 10 columns):\n",
      " #   Column                               Non-Null Count  Dtype  \n",
      "---  ------                               --------------  -----  \n",
      " 0   Date/Time - Peak Brightness (UT)     92 non-null     object \n",
      " 1   Latitude (Deg)                       92 non-null     object \n",
      " 2   Longitude (Deg)                      92 non-null     object \n",
      " 3   Altitude (km)                        68 non-null     float64\n",
      " 4   Velocity (km/s)                      7 non-null      float64\n",
      " 5   Velocity Components (km/s): vx       52 non-null     float64\n",
      " 6   Velocity Components (km/s): vy       52 non-null     float64\n",
      " 7   Velocity Components (km/s): vz       52 non-null     float64\n",
      " 8   Total Radiated Energy (J)            92 non-null     int64  \n",
      " 9   Calculated Total Impact Energy (kt)  92 non-null     float64\n",
      "dtypes: float64(6), int64(1), object(3)\n",
      "memory usage: 7.3+ KB\n"
     ]
    }
   ],
   "source": [
    "df.info()\n",
    "#lattitude and longitude are obj types"
   ]
  },
  {
   "cell_type": "code",
   "execution_count": 6,
   "id": "3e27eb7e",
   "metadata": {},
   "outputs": [
    {
     "data": {
      "text/plain": [
       "Date/Time - Peak Brightness (UT)        0\n",
       "Latitude (Deg)                          0\n",
       "Longitude (Deg)                         0\n",
       "Altitude (km)                          24\n",
       "Velocity (km/s)                        85\n",
       "Velocity Components (km/s): vx         40\n",
       "Velocity Components (km/s): vy         40\n",
       "Velocity Components (km/s): vz         40\n",
       "Total Radiated Energy (J)               0\n",
       "Calculated Total Impact Energy (kt)     0\n",
       "dtype: int64"
      ]
     },
     "execution_count": 6,
     "metadata": {},
     "output_type": "execute_result"
    }
   ],
   "source": [
    "df.isnull().sum()"
   ]
  },
  {
   "cell_type": "code",
   "execution_count": 7,
   "id": "1168127f",
   "metadata": {},
   "outputs": [
    {
     "name": "stdout",
     "output_type": "stream",
     "text": [
      "<class 'pandas.core.frame.DataFrame'>\n",
      "RangeIndex: 92 entries, 0 to 91\n",
      "Data columns (total 5 columns):\n",
      " #   Column                               Non-Null Count  Dtype  \n",
      "---  ------                               --------------  -----  \n",
      " 0   Date/Time - Peak Brightness (UT)     92 non-null     object \n",
      " 1   Latitude (Deg)                       92 non-null     object \n",
      " 2   Longitude (Deg)                      92 non-null     object \n",
      " 3   Total Radiated Energy (J)            92 non-null     int64  \n",
      " 4   Calculated Total Impact Energy (kt)  92 non-null     float64\n",
      "dtypes: float64(1), int64(1), object(3)\n",
      "memory usage: 3.7+ KB\n"
     ]
    }
   ],
   "source": [
    "#for the purpose of this analysis, we will be mapping the individual recorded fireballs and bolides using lat and long\n",
    "#total radiated energy\n",
    "df = df.drop([\"Altitude (km)\", \"Velocity (km/s)\", \"Velocity Components (km/s): vx\", \"Velocity Components (km/s): vy\", \"Velocity Components (km/s): vz\"], axis=\"columns\")\n",
    "df.info()"
   ]
  },
  {
   "cell_type": "code",
   "execution_count": 8,
   "id": "7a716f4f",
   "metadata": {},
   "outputs": [
    {
     "name": "stdout",
     "output_type": "stream",
     "text": [
      "<class 'pandas.core.frame.DataFrame'>\n",
      "RangeIndex: 92 entries, 0 to 91\n",
      "Data columns (total 5 columns):\n",
      " #   Column                               Non-Null Count  Dtype         \n",
      "---  ------                               --------------  -----         \n",
      " 0   Date/Time - Peak Brightness (UT)     92 non-null     datetime64[ns]\n",
      " 1   Latitude (Deg)                       92 non-null     object        \n",
      " 2   Longitude (Deg)                      92 non-null     object        \n",
      " 3   Total Radiated Energy (J)            92 non-null     int64         \n",
      " 4   Calculated Total Impact Energy (kt)  92 non-null     float64       \n",
      "dtypes: datetime64[ns](1), float64(1), int64(1), object(2)\n",
      "memory usage: 3.7+ KB\n"
     ]
    }
   ],
   "source": [
    "#we can see that date/time column is an object\n",
    "df[\"Date/Time - Peak Brightness (UT)\"] =  pd.to_datetime(df[\"Date/Time - Peak Brightness (UT)\"])\n",
    "df.info()"
   ]
  },
  {
   "cell_type": "code",
   "execution_count": 9,
   "id": "98b03fbb",
   "metadata": {},
   "outputs": [
    {
     "data": {
      "text/html": [
       "<div>\n",
       "<style scoped>\n",
       "    .dataframe tbody tr th:only-of-type {\n",
       "        vertical-align: middle;\n",
       "    }\n",
       "\n",
       "    .dataframe tbody tr th {\n",
       "        vertical-align: top;\n",
       "    }\n",
       "\n",
       "    .dataframe thead th {\n",
       "        text-align: right;\n",
       "    }\n",
       "</style>\n",
       "<table border=\"1\" class=\"dataframe\">\n",
       "  <thead>\n",
       "    <tr style=\"text-align: right;\">\n",
       "      <th></th>\n",
       "      <th>Date/Time - Peak Brightness (UT)</th>\n",
       "      <th>Latitude (Deg)</th>\n",
       "      <th>Longitude (Deg)</th>\n",
       "      <th>Total Radiated Energy (J)</th>\n",
       "      <th>Calculated Total Impact Energy (kt)</th>\n",
       "    </tr>\n",
       "  </thead>\n",
       "  <tbody>\n",
       "    <tr>\n",
       "      <th>23</th>\n",
       "      <td>2013-02-15 03:20:33</td>\n",
       "      <td>54.8N</td>\n",
       "      <td>61.1E</td>\n",
       "      <td>375000000000000</td>\n",
       "      <td>440.000</td>\n",
       "    </tr>\n",
       "    <tr>\n",
       "      <th>14</th>\n",
       "      <td>2010-12-25 23:24:00</td>\n",
       "      <td>38.0N</td>\n",
       "      <td>158.0E</td>\n",
       "      <td>20000000000000</td>\n",
       "      <td>33.000</td>\n",
       "    </tr>\n",
       "    <tr>\n",
       "      <th>25</th>\n",
       "      <td>2009-10-08 02:57:00</td>\n",
       "      <td>4.2S</td>\n",
       "      <td>120.6E</td>\n",
       "      <td>20000000000000</td>\n",
       "      <td>33.000</td>\n",
       "    </tr>\n",
       "    <tr>\n",
       "      <th>0</th>\n",
       "      <td>2009-11-21 20:53:00</td>\n",
       "      <td>22.0S</td>\n",
       "      <td>29.2E</td>\n",
       "      <td>10000000000000</td>\n",
       "      <td>18.000</td>\n",
       "    </tr>\n",
       "    <tr>\n",
       "      <th>44</th>\n",
       "      <td>2013-04-30 08:40:38</td>\n",
       "      <td>35.5N</td>\n",
       "      <td>30.7W</td>\n",
       "      <td>5110000000000</td>\n",
       "      <td>10.000</td>\n",
       "    </tr>\n",
       "    <tr>\n",
       "      <th>...</th>\n",
       "      <td>...</td>\n",
       "      <td>...</td>\n",
       "      <td>...</td>\n",
       "      <td>...</td>\n",
       "      <td>...</td>\n",
       "    </tr>\n",
       "    <tr>\n",
       "      <th>38</th>\n",
       "      <td>2015-01-09 17:31:47</td>\n",
       "      <td>23.3S</td>\n",
       "      <td>49.2W</td>\n",
       "      <td>22000000000</td>\n",
       "      <td>0.079</td>\n",
       "    </tr>\n",
       "    <tr>\n",
       "      <th>13</th>\n",
       "      <td>2013-07-26 11:32:26</td>\n",
       "      <td>21.0N</td>\n",
       "      <td>178.5W</td>\n",
       "      <td>20000000000</td>\n",
       "      <td>0.073</td>\n",
       "    </tr>\n",
       "    <tr>\n",
       "      <th>65</th>\n",
       "      <td>2013-05-14 23:20:21</td>\n",
       "      <td>3.0S</td>\n",
       "      <td>76.4E</td>\n",
       "      <td>20000000000</td>\n",
       "      <td>0.073</td>\n",
       "    </tr>\n",
       "    <tr>\n",
       "      <th>55</th>\n",
       "      <td>2015-03-08 04:26:28</td>\n",
       "      <td>39.1S</td>\n",
       "      <td>118.6W</td>\n",
       "      <td>20000000000</td>\n",
       "      <td>0.073</td>\n",
       "    </tr>\n",
       "    <tr>\n",
       "      <th>56</th>\n",
       "      <td>2015-01-02 13:39:19</td>\n",
       "      <td>31.1S</td>\n",
       "      <td>140.0E</td>\n",
       "      <td>20000000000</td>\n",
       "      <td>0.073</td>\n",
       "    </tr>\n",
       "  </tbody>\n",
       "</table>\n",
       "<p>92 rows × 5 columns</p>\n",
       "</div>"
      ],
      "text/plain": [
       "   Date/Time - Peak Brightness (UT) Latitude (Deg) Longitude (Deg)  \\\n",
       "23              2013-02-15 03:20:33          54.8N           61.1E   \n",
       "14              2010-12-25 23:24:00          38.0N          158.0E   \n",
       "25              2009-10-08 02:57:00           4.2S          120.6E   \n",
       "0               2009-11-21 20:53:00          22.0S           29.2E   \n",
       "44              2013-04-30 08:40:38          35.5N           30.7W   \n",
       "..                              ...            ...             ...   \n",
       "38              2015-01-09 17:31:47          23.3S           49.2W   \n",
       "13              2013-07-26 11:32:26          21.0N          178.5W   \n",
       "65              2013-05-14 23:20:21           3.0S           76.4E   \n",
       "55              2015-03-08 04:26:28          39.1S          118.6W   \n",
       "56              2015-01-02 13:39:19          31.1S          140.0E   \n",
       "\n",
       "    Total Radiated Energy (J)  Calculated Total Impact Energy (kt)  \n",
       "23            375000000000000                              440.000  \n",
       "14             20000000000000                               33.000  \n",
       "25             20000000000000                               33.000  \n",
       "0              10000000000000                               18.000  \n",
       "44              5110000000000                               10.000  \n",
       "..                        ...                                  ...  \n",
       "38                22000000000                                0.079  \n",
       "13                20000000000                                0.073  \n",
       "65                20000000000                                0.073  \n",
       "55                20000000000                                0.073  \n",
       "56                20000000000                                0.073  \n",
       "\n",
       "[92 rows x 5 columns]"
      ]
     },
     "execution_count": 9,
     "metadata": {},
     "output_type": "execute_result"
    }
   ],
   "source": [
    "df.sort_values(\"Total Radiated Energy (J)\", ascending = False)"
   ]
  },
  {
   "cell_type": "code",
   "execution_count": 10,
   "id": "5474f168",
   "metadata": {},
   "outputs": [],
   "source": [
    "import matplotlib.pyplot as plt\n",
    "%matplotlib inline"
   ]
  },
  {
   "cell_type": "code",
   "execution_count": 11,
   "id": "737ec84b",
   "metadata": {},
   "outputs": [
    {
     "data": {
      "text/plain": [
       "Text(0, 0.5, 'Calculated Total Impact Energy (kt)')"
      ]
     },
     "execution_count": 11,
     "metadata": {},
     "output_type": "execute_result"
    },
    {
     "data": {
      "image/png": "[encoded data removed]",
      "text/plain": [
       "<Figure size 640x480 with 1 Axes>"
      ]
     },
     "metadata": {},
     "output_type": "display_data"
    }
   ],
   "source": [
    "plt.scatter(df[\"Total Radiated Energy (J)\"], df[\"Calculated Total Impact Energy (kt)\"])\n",
    "plt.xlabel(\"Total Radiated Energy (J)\")\n",
    "plt.ylabel(\"Calculated Total Impact Energy (kt)\")\n",
    "#total radiated energy and calculated total impact energy is linearly correlated"
   ]
  },
  {
   "cell_type": "code",
   "execution_count": 12,
   "id": "2629e85f",
   "metadata": {},
   "outputs": [
    {
     "data": {
      "text/html": [
       "<div>\n",
       "<style scoped>\n",
       "    .dataframe tbody tr th:only-of-type {\n",
       "        vertical-align: middle;\n",
       "    }\n",
       "\n",
       "    .dataframe tbody tr th {\n",
       "        vertical-align: top;\n",
       "    }\n",
       "\n",
       "    .dataframe thead th {\n",
       "        text-align: right;\n",
       "    }\n",
       "</style>\n",
       "<table border=\"1\" class=\"dataframe\">\n",
       "  <thead>\n",
       "    <tr style=\"text-align: right;\">\n",
       "      <th></th>\n",
       "      <th>Date/Time - Peak Brightness (UT)</th>\n",
       "      <th>Latitude (Deg)</th>\n",
       "      <th>Longitude (Deg)</th>\n",
       "      <th>Calculated Total Impact Energy (kt)</th>\n",
       "      <th>Total Radiated Energy (giga J)</th>\n",
       "    </tr>\n",
       "  </thead>\n",
       "  <tbody>\n",
       "    <tr>\n",
       "      <th>0</th>\n",
       "      <td>2009-11-21 20:53:00</td>\n",
       "      <td>22.0S</td>\n",
       "      <td>29.2E</td>\n",
       "      <td>18.00</td>\n",
       "      <td>10000.0</td>\n",
       "    </tr>\n",
       "    <tr>\n",
       "      <th>1</th>\n",
       "      <td>2015-01-09 10:41:11</td>\n",
       "      <td>2.0N</td>\n",
       "      <td>28.8E</td>\n",
       "      <td>0.41</td>\n",
       "      <td>139.0</td>\n",
       "    </tr>\n",
       "    <tr>\n",
       "      <th>2</th>\n",
       "      <td>2014-05-16 12:42:48</td>\n",
       "      <td>44.2S</td>\n",
       "      <td>176.2W</td>\n",
       "      <td>0.82</td>\n",
       "      <td>309.0</td>\n",
       "    </tr>\n",
       "    <tr>\n",
       "      <th>3</th>\n",
       "      <td>2014-08-23 06:29:41</td>\n",
       "      <td>61.7S</td>\n",
       "      <td>132.6E</td>\n",
       "      <td>7.60</td>\n",
       "      <td>3820.0</td>\n",
       "    </tr>\n",
       "    <tr>\n",
       "      <th>4</th>\n",
       "      <td>2014-12-12 06:48:11</td>\n",
       "      <td>33.5N</td>\n",
       "      <td>144.9E</td>\n",
       "      <td>0.11</td>\n",
       "      <td>33.0</td>\n",
       "    </tr>\n",
       "    <tr>\n",
       "      <th>...</th>\n",
       "      <td>...</td>\n",
       "      <td>...</td>\n",
       "      <td>...</td>\n",
       "      <td>...</td>\n",
       "      <td>...</td>\n",
       "    </tr>\n",
       "    <tr>\n",
       "      <th>87</th>\n",
       "      <td>2012-05-04 21:54:49</td>\n",
       "      <td>76.7N</td>\n",
       "      <td>10.6W</td>\n",
       "      <td>0.63</td>\n",
       "      <td>229.0</td>\n",
       "    </tr>\n",
       "    <tr>\n",
       "      <th>88</th>\n",
       "      <td>2012-04-23 22:01:10</td>\n",
       "      <td>36.2N</td>\n",
       "      <td>107.4E</td>\n",
       "      <td>0.15</td>\n",
       "      <td>44.0</td>\n",
       "    </tr>\n",
       "    <tr>\n",
       "      <th>89</th>\n",
       "      <td>2012-07-25 07:48:20</td>\n",
       "      <td>36.4N</td>\n",
       "      <td>41.5E</td>\n",
       "      <td>0.39</td>\n",
       "      <td>133.0</td>\n",
       "    </tr>\n",
       "    <tr>\n",
       "      <th>90</th>\n",
       "      <td>2015-04-21 01:42:51</td>\n",
       "      <td>37.7N</td>\n",
       "      <td>39.6W</td>\n",
       "      <td>0.27</td>\n",
       "      <td>88.0</td>\n",
       "    </tr>\n",
       "    <tr>\n",
       "      <th>91</th>\n",
       "      <td>2012-05-15 11:04:17</td>\n",
       "      <td>61.8S</td>\n",
       "      <td>135.5W</td>\n",
       "      <td>0.39</td>\n",
       "      <td>132.0</td>\n",
       "    </tr>\n",
       "  </tbody>\n",
       "</table>\n",
       "<p>92 rows × 5 columns</p>\n",
       "</div>"
      ],
      "text/plain": [
       "   Date/Time - Peak Brightness (UT) Latitude (Deg) Longitude (Deg)  \\\n",
       "0               2009-11-21 20:53:00          22.0S           29.2E   \n",
       "1               2015-01-09 10:41:11           2.0N           28.8E   \n",
       "2               2014-05-16 12:42:48          44.2S          176.2W   \n",
       "3               2014-08-23 06:29:41          61.7S          132.6E   \n",
       "4               2014-12-12 06:48:11          33.5N          144.9E   \n",
       "..                              ...            ...             ...   \n",
       "87              2012-05-04 21:54:49          76.7N           10.6W   \n",
       "88              2012-04-23 22:01:10          36.2N          107.4E   \n",
       "89              2012-07-25 07:48:20          36.4N           41.5E   \n",
       "90              2015-04-21 01:42:51          37.7N           39.6W   \n",
       "91              2012-05-15 11:04:17          61.8S          135.5W   \n",
       "\n",
       "    Calculated Total Impact Energy (kt)  Total Radiated Energy (giga J)  \n",
       "0                                 18.00                         10000.0  \n",
       "1                                  0.41                           139.0  \n",
       "2                                  0.82                           309.0  \n",
       "3                                  7.60                          3820.0  \n",
       "4                                  0.11                            33.0  \n",
       "..                                  ...                             ...  \n",
       "87                                 0.63                           229.0  \n",
       "88                                 0.15                            44.0  \n",
       "89                                 0.39                           133.0  \n",
       "90                                 0.27                            88.0  \n",
       "91                                 0.39                           132.0  \n",
       "\n",
       "[92 rows x 5 columns]"
      ]
     },
     "execution_count": 12,
     "metadata": {},
     "output_type": "execute_result"
    }
   ],
   "source": [
    "#convert total radiated energy unit from joules to billions joules (giga joules) for easier visualization\n",
    "df[\"Total Radiated Energy (giga J)\"] = df[\"Total Radiated Energy (J)\"]/1000000000\n",
    "df.drop([\"Total Radiated Energy (J)\"], axis=\"columns\", inplace=True)\n",
    "df"
   ]
  },
  {
   "cell_type": "code",
   "execution_count": 13,
   "id": "aae8af61",
   "metadata": {},
   "outputs": [
    {
     "data": {
      "text/plain": [
       "Text(0, 0.5, 'Occurence')"
      ]
     },
     "execution_count": 13,
     "metadata": {},
     "output_type": "execute_result"
    },
    {
     "data": {
      "image/png": "[encoded data removed]",
      "text/plain": [
       "<Figure size 640x480 with 1 Axes>"
      ]
     },
     "metadata": {},
     "output_type": "display_data"
    }
   ],
   "source": [
    "#count occurences per year and plot bar chart\n",
    "df[\"Date/Time - Peak Brightness (UT)\"].groupby(df[\"Date/Time - Peak Brightness (UT)\"].dt.year).count().plot(kind=\"bar\")\n",
    "plt.xlabel(\"Year\")\n",
    "plt.ylabel(\"Occurence\")"
   ]
  },
  {
   "cell_type": "code",
   "execution_count": null,
   "id": "114acf5c",
   "metadata": {},
   "outputs": [],
   "source": []
  }
 ],
 "metadata": {
  "kernelspec": {
   "display_name": "Python 3 (ipykernel)",
   "language": "python",
   "name": "python3"
  },
  "language_info": {
   "codemirror_mode": {
    "name": "ipython",
    "version": 3
   },
   "file_extension": ".py",
   "mimetype": "text/x-python",
   "name": "python",
   "nbconvert_exporter": "python",
   "pygments_lexer": "ipython3",
   "version": "3.9.13"
  }
 },
 "nbformat": 4,
 "nbformat_minor": 5
}
